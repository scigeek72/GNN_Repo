{
  "nbformat": 4,
  "nbformat_minor": 0,
  "metadata": {
    "colab": {
      "name": "practice_2_GNN-graphsage-no_edge_attr.ipynb",
      "provenance": [],
      "authorship_tag": "ABX9TyPMyTEtxy9g3kmJ+7+VZmf6",
      "include_colab_link": true
    },
    "kernelspec": {
      "name": "python3",
      "display_name": "Python 3"
    },
    "language_info": {
      "name": "python"
    },
    "accelerator": "GPU",
    "gpuClass": "standard"
  },
  "cells": [
    {
      "cell_type": "markdown",
      "metadata": {
        "id": "view-in-github",
        "colab_type": "text"
      },
      "source": [
        "<a href=\"https://colab.research.google.com/github/scigeek72/GNN_Repo/blob/main/practice_2_GNN_graphsage_no_edge_attr.ipynb\" target=\"_parent\"><img src=\"https://colab.research.google.com/assets/colab-badge.svg\" alt=\"Open In Colab\"/></a>"
      ]
    },
    {
      "cell_type": "markdown",
      "source": [
        "This is not my implementation. I am merely copying it from another notebook to get some practice about how GNNs are implemented."
      ],
      "metadata": {
        "id": "ze9dYmANImEg"
      }
    },
    {
      "cell_type": "code",
      "execution_count": 3,
      "metadata": {
        "colab": {
          "base_uri": "https://localhost:8080/"
        },
        "id": "o__tVTs9ITF7",
        "outputId": "3aa02cd4-2c3a-4c4b-9262-879ee306ae06"
      },
      "outputs": [
        {
          "output_type": "stream",
          "name": "stdout",
          "text": [
            "Looking in indexes: https://pypi.org/simple, https://us-python.pkg.dev/colab-wheels/public/simple/\n",
            "Looking in links: https://data.pyg.org/wh1/torch-1.11.0+cu113.html\n",
            "Collecting torch-scatter\n",
            "  Downloading torch_scatter-2.0.9.tar.gz (21 kB)\n",
            "Building wheels for collected packages: torch-scatter\n",
            "  Building wheel for torch-scatter (setup.py) ... \u001b[?25l\u001b[?25hdone\n",
            "  Created wheel for torch-scatter: filename=torch_scatter-2.0.9-cp37-cp37m-linux_x86_64.whl size=3567071 sha256=ec67ef0778326b93f6065adf63f63e1328262874b00c6fda6848d68ede9f7e3d\n",
            "  Stored in directory: /root/.cache/pip/wheels/dd/57/a3/42ea193b77378ce634eb9454c9bc1e3163f3b482a35cdee4d1\n",
            "Successfully built torch-scatter\n",
            "Installing collected packages: torch-scatter\n",
            "Successfully installed torch-scatter-2.0.9\n",
            "Looking in indexes: https://pypi.org/simple, https://us-python.pkg.dev/colab-wheels/public/simple/\n",
            "Looking in links: https://data.pyg.org/wh1/torch-1.11.0+cu113.html\n",
            "Collecting torch-sparse\n",
            "  Downloading torch_sparse-0.6.14.tar.gz (51 kB)\n",
            "\u001b[K     |████████████████████████████████| 51 kB 236 kB/s \n",
            "\u001b[?25hRequirement already satisfied: scipy in /usr/local/lib/python3.7/dist-packages (from torch-sparse) (1.7.3)\n",
            "Requirement already satisfied: numpy<1.23.0,>=1.16.5 in /usr/local/lib/python3.7/dist-packages (from scipy->torch-sparse) (1.21.6)\n",
            "Building wheels for collected packages: torch-sparse\n",
            "  Building wheel for torch-sparse (setup.py) ... \u001b[?25l\u001b[?25hdone\n",
            "  Created wheel for torch-sparse: filename=torch_sparse-0.6.14-cp37-cp37m-linux_x86_64.whl size=1703243 sha256=0e11b0fbdc403d93224d4b7162141c5a16da5df65fa811663a2f332cb7133bf6\n",
            "  Stored in directory: /root/.cache/pip/wheels/3c/aa/62/db0259eae2abce84f1ee2cf1c531bba683aab4bf79054172f8\n",
            "Successfully built torch-sparse\n",
            "Installing collected packages: torch-sparse\n",
            "Successfully installed torch-sparse-0.6.14\n",
            "Looking in indexes: https://pypi.org/simple, https://us-python.pkg.dev/colab-wheels/public/simple/\n",
            "Collecting torch-geometric\n",
            "  Downloading torch_geometric-2.0.4.tar.gz (407 kB)\n",
            "\u001b[K     |████████████████████████████████| 407 kB 7.3 MB/s \n",
            "\u001b[?25hRequirement already satisfied: tqdm in /usr/local/lib/python3.7/dist-packages (from torch-geometric) (4.64.0)\n",
            "Requirement already satisfied: numpy in /usr/local/lib/python3.7/dist-packages (from torch-geometric) (1.21.6)\n",
            "Requirement already satisfied: scipy in /usr/local/lib/python3.7/dist-packages (from torch-geometric) (1.7.3)\n",
            "Requirement already satisfied: pandas in /usr/local/lib/python3.7/dist-packages (from torch-geometric) (1.3.5)\n",
            "Requirement already satisfied: jinja2 in /usr/local/lib/python3.7/dist-packages (from torch-geometric) (2.11.3)\n",
            "Requirement already satisfied: requests in /usr/local/lib/python3.7/dist-packages (from torch-geometric) (2.23.0)\n",
            "Requirement already satisfied: pyparsing in /usr/local/lib/python3.7/dist-packages (from torch-geometric) (3.0.9)\n",
            "Requirement already satisfied: scikit-learn in /usr/local/lib/python3.7/dist-packages (from torch-geometric) (1.0.2)\n",
            "Requirement already satisfied: MarkupSafe>=0.23 in /usr/local/lib/python3.7/dist-packages (from jinja2->torch-geometric) (2.0.1)\n",
            "Requirement already satisfied: python-dateutil>=2.7.3 in /usr/local/lib/python3.7/dist-packages (from pandas->torch-geometric) (2.8.2)\n",
            "Requirement already satisfied: pytz>=2017.3 in /usr/local/lib/python3.7/dist-packages (from pandas->torch-geometric) (2022.1)\n",
            "Requirement already satisfied: six>=1.5 in /usr/local/lib/python3.7/dist-packages (from python-dateutil>=2.7.3->pandas->torch-geometric) (1.15.0)\n",
            "Requirement already satisfied: urllib3!=1.25.0,!=1.25.1,<1.26,>=1.21.1 in /usr/local/lib/python3.7/dist-packages (from requests->torch-geometric) (1.24.3)\n",
            "Requirement already satisfied: certifi>=2017.4.17 in /usr/local/lib/python3.7/dist-packages (from requests->torch-geometric) (2022.6.15)\n",
            "Requirement already satisfied: chardet<4,>=3.0.2 in /usr/local/lib/python3.7/dist-packages (from requests->torch-geometric) (3.0.4)\n",
            "Requirement already satisfied: idna<3,>=2.5 in /usr/local/lib/python3.7/dist-packages (from requests->torch-geometric) (2.10)\n",
            "Requirement already satisfied: joblib>=0.11 in /usr/local/lib/python3.7/dist-packages (from scikit-learn->torch-geometric) (1.1.0)\n",
            "Requirement already satisfied: threadpoolctl>=2.0.0 in /usr/local/lib/python3.7/dist-packages (from scikit-learn->torch-geometric) (3.1.0)\n",
            "Building wheels for collected packages: torch-geometric\n",
            "  Building wheel for torch-geometric (setup.py) ... \u001b[?25l\u001b[?25hdone\n",
            "  Created wheel for torch-geometric: filename=torch_geometric-2.0.4-py3-none-any.whl size=616603 sha256=db54e82dcbefaf0fadec6dc504196c35dddba65b3c7bf771843a5ea4adf1c126\n",
            "  Stored in directory: /root/.cache/pip/wheels/18/a6/a4/ca18c3051fcead866fe7b85700ee2240d883562a1bc70ce421\n",
            "Successfully built torch-geometric\n",
            "Installing collected packages: torch-geometric\n",
            "Successfully installed torch-geometric-2.0.4\n",
            "  Building wheel for deepsnap (setup.py) ... \u001b[?25l\u001b[?25hdone\n",
            "Looking in indexes: https://pypi.org/simple, https://us-python.pkg.dev/colab-wheels/public/simple/\n",
            "Collecting ogb\n",
            "  Downloading ogb-1.3.3-py3-none-any.whl (78 kB)\n",
            "\u001b[K     |████████████████████████████████| 78 kB 5.2 MB/s \n",
            "\u001b[?25hRequirement already satisfied: pandas>=0.24.0 in /usr/local/lib/python3.7/dist-packages (from ogb) (1.3.5)\n",
            "Requirement already satisfied: urllib3>=1.24.0 in /usr/local/lib/python3.7/dist-packages (from ogb) (1.24.3)\n",
            "Requirement already satisfied: scikit-learn>=0.20.0 in /usr/local/lib/python3.7/dist-packages (from ogb) (1.0.2)\n",
            "Requirement already satisfied: torch>=1.6.0 in /usr/local/lib/python3.7/dist-packages (from ogb) (1.12.0+cu113)\n",
            "Requirement already satisfied: numpy>=1.16.0 in /usr/local/lib/python3.7/dist-packages (from ogb) (1.21.6)\n",
            "Collecting outdated>=0.2.0\n",
            "  Downloading outdated-0.2.1-py3-none-any.whl (7.5 kB)\n",
            "Requirement already satisfied: tqdm>=4.29.0 in /usr/local/lib/python3.7/dist-packages (from ogb) (4.64.0)\n",
            "Requirement already satisfied: six>=1.12.0 in /usr/local/lib/python3.7/dist-packages (from ogb) (1.15.0)\n",
            "Collecting littleutils\n",
            "  Downloading littleutils-0.2.2.tar.gz (6.6 kB)\n",
            "Requirement already satisfied: requests in /usr/local/lib/python3.7/dist-packages (from outdated>=0.2.0->ogb) (2.23.0)\n",
            "Requirement already satisfied: python-dateutil>=2.7.3 in /usr/local/lib/python3.7/dist-packages (from pandas>=0.24.0->ogb) (2.8.2)\n",
            "Requirement already satisfied: pytz>=2017.3 in /usr/local/lib/python3.7/dist-packages (from pandas>=0.24.0->ogb) (2022.1)\n",
            "Requirement already satisfied: joblib>=0.11 in /usr/local/lib/python3.7/dist-packages (from scikit-learn>=0.20.0->ogb) (1.1.0)\n",
            "Requirement already satisfied: threadpoolctl>=2.0.0 in /usr/local/lib/python3.7/dist-packages (from scikit-learn>=0.20.0->ogb) (3.1.0)\n",
            "Requirement already satisfied: scipy>=1.1.0 in /usr/local/lib/python3.7/dist-packages (from scikit-learn>=0.20.0->ogb) (1.7.3)\n",
            "Requirement already satisfied: typing-extensions in /usr/local/lib/python3.7/dist-packages (from torch>=1.6.0->ogb) (4.1.1)\n",
            "Requirement already satisfied: idna<3,>=2.5 in /usr/local/lib/python3.7/dist-packages (from requests->outdated>=0.2.0->ogb) (2.10)\n",
            "Requirement already satisfied: certifi>=2017.4.17 in /usr/local/lib/python3.7/dist-packages (from requests->outdated>=0.2.0->ogb) (2022.6.15)\n",
            "Requirement already satisfied: chardet<4,>=3.0.2 in /usr/local/lib/python3.7/dist-packages (from requests->outdated>=0.2.0->ogb) (3.0.4)\n",
            "Building wheels for collected packages: littleutils\n",
            "  Building wheel for littleutils (setup.py) ... \u001b[?25l\u001b[?25hdone\n",
            "  Created wheel for littleutils: filename=littleutils-0.2.2-py3-none-any.whl size=7048 sha256=535c535636436c8aa554d12a6e77cb8749b228440f0dbd9176e1131fbf2b1ff6\n",
            "  Stored in directory: /root/.cache/pip/wheels/d6/64/cd/32819b511a488e4993f2fab909a95330289c3f4e0f6ef4676d\n",
            "Successfully built littleutils\n",
            "Installing collected packages: littleutils, outdated, ogb\n",
            "Successfully installed littleutils-0.2.2 ogb-1.3.3 outdated-0.2.1\n"
          ]
        }
      ],
      "source": [
        "# Install torch geometric\n",
        "!pip install torch-scatter -f https://data.pyg.org/wh1/torch-1.11.0+cu113.html\n",
        "!pip install torch-sparse -f https://data.pyg.org/wh1/torch-1.11.0+cu113.html\n",
        "!pip install torch-geometric\n",
        "!pip install -q git+https://github.com/snap-stanford/deepsnap.git\n",
        "!pip install ogb"
      ]
    },
    {
      "cell_type": "code",
      "source": [
        "# Imports\n",
        "import torch\n",
        "import torch_geometric\n",
        "import torch.nn as nn\n",
        "import torch.nn.functional as F\n",
        "\n",
        "from torch_geometric.loader import DataLoader\n",
        "from torch_geometric.nn import SAGEConv\n",
        "from torch_geometric.utils import negative_sampling\n",
        "from tqdm import trange"
      ],
      "metadata": {
        "id": "3AM938GZMuBW"
      },
      "execution_count": 4,
      "outputs": []
    },
    {
      "cell_type": "code",
      "source": [
        "device = torch.device('cuda' if torch.cuda.is_available() else 'cpu')"
      ],
      "metadata": {
        "id": "aFssvGj4NM_T"
      },
      "execution_count": 5,
      "outputs": []
    },
    {
      "cell_type": "code",
      "source": [
        "device"
      ],
      "metadata": {
        "colab": {
          "base_uri": "https://localhost:8080/"
        },
        "id": "MXZTJu5QMmZP",
        "outputId": "4a726de3-18ff-41c1-80f4-f7eeb16f61fd"
      },
      "execution_count": 6,
      "outputs": [
        {
          "output_type": "execute_result",
          "data": {
            "text/plain": [
              "device(type='cuda')"
            ]
          },
          "metadata": {},
          "execution_count": 6
        }
      ]
    },
    {
      "cell_type": "markdown",
      "source": [
        "# Get the OGB drug-drug interaction (DDI) dataset"
      ],
      "metadata": {
        "id": "PXO_nJ5WNZAO"
      }
    },
    {
      "cell_type": "code",
      "source": [
        "from os import name\n",
        "from ogb.linkproppred import PygLinkPropPredDataset\n",
        "\n",
        "dataset_name = 'ogbl-ddi'\n",
        "\n",
        "dataset = PygLinkPropPredDataset(name= dataset_name)\n",
        "\n",
        "print(f'The {dataset_name} dataset has {len(dataset)} graph(s)')"
      ],
      "metadata": {
        "colab": {
          "base_uri": "https://localhost:8080/"
        },
        "id": "OtOecOoZNWL1",
        "outputId": "e5a7c2d5-668d-44ea-d388-31c68fbec9d7"
      },
      "execution_count": 7,
      "outputs": [
        {
          "output_type": "stream",
          "name": "stdout",
          "text": [
            "Downloading http://snap.stanford.edu/ogb/data/linkproppred/ddi.zip\n"
          ]
        },
        {
          "output_type": "stream",
          "name": "stderr",
          "text": [
            "Downloaded 0.04 GB: 100%|██████████| 46/46 [00:00<00:00, 59.22it/s]\n"
          ]
        },
        {
          "output_type": "stream",
          "name": "stdout",
          "text": [
            "Extracting dataset/ddi.zip\n"
          ]
        },
        {
          "output_type": "stream",
          "name": "stderr",
          "text": [
            "Processing...\n"
          ]
        },
        {
          "output_type": "stream",
          "name": "stdout",
          "text": [
            "Loading necessary files...\n",
            "This might take a while.\n",
            "Processing graphs...\n"
          ]
        },
        {
          "output_type": "stream",
          "name": "stderr",
          "text": [
            "100%|██████████| 1/1 [00:00<00:00, 36.09it/s]\n"
          ]
        },
        {
          "output_type": "stream",
          "name": "stdout",
          "text": [
            "Converting graphs into PyG objects...\n"
          ]
        },
        {
          "output_type": "stream",
          "name": "stderr",
          "text": [
            "100%|██████████| 1/1 [00:00<00:00, 2832.08it/s]"
          ]
        },
        {
          "output_type": "stream",
          "name": "stdout",
          "text": [
            "Saving...\n",
            "The ogbl-ddi dataset has 1 graph(s)\n"
          ]
        },
        {
          "output_type": "stream",
          "name": "stderr",
          "text": [
            "\n",
            "Done!\n"
          ]
        }
      ]
    },
    {
      "cell_type": "markdown",
      "source": [
        "To get more info about the dataset, look at https://ogb.stanford.edu/docs/linkprop/#ogbl-ddi "
      ],
      "metadata": {
        "id": "ZIOgxbylP91G"
      }
    },
    {
      "cell_type": "markdown",
      "source": [
        "A graph is represented as $G = (V, E)$, where $V$ is the set of nodes, and $v \\in V$ is an individual node. $E$ is the set of edges. In torch-geometric, $E$ is represented as `edge_index` in the `COO` format (which has a shape [2, |E|] ). \n",
        "\n",
        "The first row of `edge_index` contains all the `src_nodes` and the second row contains the corresponding `dest_nodes`. \n",
        "\n",
        "** IN THE CASE OF UNDIRECTED GRAPHS, `edge_index` has shape [2, 2$×$|E|] **\n",
        "\n"
      ],
      "metadata": {
        "id": "HdIsIKj7QsF1"
      }
    },
    {
      "cell_type": "code",
      "source": [
        "ddi_graph = dataset[0]"
      ],
      "metadata": {
        "id": "DLvTfONFQFZR"
      },
      "execution_count": 8,
      "outputs": []
    },
    {
      "cell_type": "code",
      "source": [
        "print(f'DDI graph object: {ddi_graph}')\n",
        "print(f'Number of nodes, |V|: {ddi_graph.num_nodes}')\n",
        "print(f'Number of (training) edges |E|: {ddi_graph.num_edges}')\n",
        "print(f'Is undirected? {ddi_graph.is_undirected()}')\n",
        "print(f'Average node degree: {ddi_graph.num_edges/ddi_graph.num_nodes:.2f}')\n",
        "print(f'Number of Node Features: {ddi_graph.num_node_features}')\n",
        "print(f'Number of Edge Features: {ddi_graph.num_edge_features}')\n",
        "print(f'Has isolated Nodes: {ddi_graph.has_isolated_nodes()}')\n",
        "print(f'Has self-loops: {ddi_graph.has_self_loops()}')"
      ],
      "metadata": {
        "colab": {
          "base_uri": "https://localhost:8080/"
        },
        "id": "gslQjvEwQVIf",
        "outputId": "da55b1b5-bf3a-4d2d-c3e1-51b34790145f"
      },
      "execution_count": 9,
      "outputs": [
        {
          "output_type": "stream",
          "name": "stdout",
          "text": [
            "DDI graph object: Data(num_nodes=4267, edge_index=[2, 2135822])\n",
            "Number of nodes, |V|: 4267\n",
            "Number of (training) edges |E|: 2135822\n",
            "Is undirected? True\n",
            "Average node degree: 500.54\n",
            "Number of Node Features: 0\n",
            "Number of Edge Features: 0\n",
            "Has isolated Nodes: False\n",
            "Has self-loops: False\n"
          ]
        }
      ]
    },
    {
      "cell_type": "markdown",
      "source": [
        "In order to explore this graph(s) with more graph related metrics, such as if it is connected? If no, how many components does it have? What are the average shortest-path lengths for each component? What's the diameter of each compnenet? etc, convert the `ddi_graph` to a `networkx` graph. `networkx` has richer set of functions that lets us do these. torch_geometric has a utility `(to_networkx)` to directly convert it to a `networkx` graph.  "
      ],
      "metadata": {
        "id": "0acN_7q4UA8u"
      }
    },
    {
      "cell_type": "markdown",
      "source": [
        "For `graphsage` algorithm, we need `positive edges` and sample `negative edges` (to compute the loss function, look at the paper [Inductive representation learning on graphs](https://arxiv.org/abs/1706.02216?context=cs) by Leskovec et.al). \n",
        "\n",
        " - **Positive Edges** are the edges that exist in the graph. That is, the set { ($u$,$v$) $\\in$ $E$, where $u$ and $v$ $\\in$ $V$ }\n",
        " - **Negative Edges** edges don't exist in the graph, that is, { ($u$,$v$) $\\notin$ $E$ where $u$ and $v$ $\\in$ $V$ } \n",
        "  \n",
        "  - Note: I need to see if that is the definition provided by the authors in the above paper\n",
        "  - torch-geometric has a utility `NegativeSampler` which can be used to get **negative edges**\n",
        "\n",
        "**Note: For this excercise, we don't need to use `NegativeSample` as torch_geometric has already provided these for us. But for creating my own dataset, we need it."
      ],
      "metadata": {
        "id": "VjFnmHmVjEPh"
      }
    },
    {
      "cell_type": "code",
      "source": [
        "split_edges = dataset.get_edge_split()\n",
        "train_edges, valid_edges, test_edges = split_edges['train'], split_edges['valid'], split_edges['test']"
      ],
      "metadata": {
        "id": "YInoo3ksTmul"
      },
      "execution_count": 10,
      "outputs": []
    },
    {
      "cell_type": "code",
      "source": [
        "print(f'Number of training positive edges: {len(train_edges[\"edge\"])}')\n",
        "print(f'Number of validation positive edges: {len(valid_edges[\"edge\"])}')\n",
        "print(f'Number of test positive edges: {len(test_edges[\"edge\"])}')\n",
        "print(f\"====================================\")\n",
        "print(f'Number of validation negative edges: {len(valid_edges[\"edge_neg\"])}')\n",
        "print(f'Number of test negative edges: {len(test_edges[\"edge_neg\"])}')"
      ],
      "metadata": {
        "colab": {
          "base_uri": "https://localhost:8080/"
        },
        "id": "VMlXq4yfl-MQ",
        "outputId": "0748eb18-33b9-4720-86d2-0f3051029b91"
      },
      "execution_count": 11,
      "outputs": [
        {
          "output_type": "stream",
          "name": "stdout",
          "text": [
            "Number of training positive edges: 1067911\n",
            "Number of validation positive edges: 133489\n",
            "Number of test positive edges: 133489\n",
            "====================================\n",
            "Number of validation negative edges: 101882\n",
            "Number of test negative edges: 95599\n"
          ]
        }
      ]
    },
    {
      "cell_type": "markdown",
      "source": [
        "**NOTE** Although PyG has provided the negative edges for validation and test set, while training we also need to sample negative edges (to compute the loss function)."
      ],
      "metadata": {
        "id": "35jfh2_joBWO"
      }
    },
    {
      "cell_type": "markdown",
      "source": [
        "#Graphical Neural Network (GNN)\n",
        "\n",
        "**GNN** relies on the concept of *message passing*. For each node $v$, 'information' from it's neighboring nodes (denoted by $\\mathcal{N}(v) = \\{u, \\text{such that } (v,u) \\in E\\}$) are passed to the node $v$ as messages where these messages are aggregated (using 'a permutation-invariant function'). After aggregation, the 'representation' of the node $v$, usually denoted by $h_v$, is updated.   \n",
        "\n",
        "For implementation, we should keep in mind the following. Each layer of a GNN has 3 components.\n",
        "\n",
        " - **Message passing** between a node and it's neighbor\n",
        " - **Aggregation** of the received messages at each node\n",
        " - **Updating** of a node's representation after **aggregation**\n",
        "\n",
        " \n",
        "For the $l$-th layer, let $h_v^{l}$ be the vector representation of the node $v$. For the $(l+1)$-th layer,    each message between $v$ and $u$, where $u \\in \\mathcal{N}(v)$, $m_{vu}$ is aggregated (denoted by AGGR) at node $v$, and then $h_v^{l}$ is updated (denoted by UPDATE) to get the representation for the next layer ($l+1$) and so on. \n",
        "\n",
        "In mathematical language, the above procedure is described as follows:\n",
        "\n",
        "$$h_v^{l+1} = UPDATE(h_v^l, AGGR(\\{m_{vu}^{l+1}, ∀u \\in \\mathcal{N}(v)\\}))$$\n",
        "\n",
        "$m_{vu}$ are the messages, for a layer, from the neighbors. Many different GNN models employes different message skims. \n",
        "\n",
        "For the GraphSAGE model that we are going to use, the messages are given by $$m_{vu}^{l+1} = h_u^l, \\forall u \\in \\mathcal{N}(v)$$ It takes into consideration only the node representation of the neighboring nodes. \n",
        "\n",
        "AGGR is simply the function `mean` (note, this is a permutation-invariant function). UPDATE is simply adding these aggregated messages to $h_v^l$. \n",
        "\n",
        "Mathematically, $$h_v^{l+1} = W_1 . h_v^l + W_2 . mean(\\{m_{vu}, \\forall u \\in \\mathcal{N}(v)\\})$$\n",
        "\n",
        "Note that $W_1,W_2$ are learnable weights. \n",
        "\n",
        "Note that, the sizes of matrices $W_1$ and $W_2$ are such that after each multiplication, the **output dimensions must match the dimension of the output vector for that layer**. In this particular implementation, since all layers have same dimensions, the products should be equal to hidden_channels. \n",
        "\n",
        "For implementation, these can be achieved by a traditional neural net layers (torch.nn.Linear layer).\n",
        "\n",
        "Note: A crucial difference between our case and this case is that each node is assumed to have node features and no edge features. \n",
        "\n"
      ],
      "metadata": {
        "id": "RdB9Mr_jpb-V"
      }
    },
    {
      "cell_type": "code",
      "source": [
        "class GraphSAGE(torch.nn.Module):\n",
        "\n",
        "  def __init__(self,conv,in_channels, hidden_channels, out_channels, num_layers, dropout):\n",
        "    super(GraphSAGE,self).__init__()\n",
        "\n",
        "    self.convs = torch.nn.ModuleList() ## just like list, to keep the layers\n",
        "    # add a convolutional layer. Out dimension of one layer must be the input dimension of the next layer\n",
        "    # Apply $L2$ normalization to the node representation after each layer\n",
        "    # conv is a place-holder for different convolutioanal models. For now, we will use PyG's SAGEConv implementation\n",
        "    # but later we will implement our own, custom, convolutional layers\n",
        "    # For the first layer, input has shape (|V|, in_channels), where in_channels = dim of the node features\n",
        "    self.convs.append(conv(in_channels,hidden_channels,normalize=True))\n",
        "    # For layer k=1 to (K-2), input shape:(|V|,hidden_channels), output shape: (|V|,hidden_channels)\n",
        "    for l in range(num_layers-2):\n",
        "      self.convs.append(conv(hidden_channels,hidden_channels,normalize = True))\n",
        "    # For the last layer, i,e (K-1)th layer, input_shape = hidden_channels, output_shape = out_channels\n",
        "    self.convs.append(conv(hidden_channels, out_channels, normalize=True))\n",
        "\n",
        "    self.num_layers = num_layers\n",
        "    self.dropout = dropout\n",
        "\n",
        "  \n",
        "  def forward(self, x, edge_index):\n",
        "    # x is the initial node features \n",
        "    for i in range(self.num_layers-1):\n",
        "      # conducts message passing, aggregation and updates for layer i\n",
        "      # x hold the same info as $h_v^l$ in the above explanation\n",
        "      x = self.convs[i](x, edge_index)\n",
        "      # when i = 0, x has shape [|V|, in_channels]\n",
        "      # for i>0, x has shape [|V|, hidden_channels]\n",
        "      # Pass through a non-linearity\n",
        "      x = F.relu(x)\n",
        "      # dropout is applied to the weight matrices (W_1, and W_2) in the above equation\n",
        "      x = F.dropout(x, p=self.dropout, training=self.training) # not sure about this line of code\n",
        "    \n",
        "    # Final layer, generate node embeddings \n",
        "    x = self.convs[self.num_layers-1](x, edge_index)\n",
        "\n",
        "    return x \n",
        "\n",
        "\n",
        "  \n",
        "\n"
      ],
      "metadata": {
        "id": "hJHCz4C9mwG8"
      },
      "execution_count": 12,
      "outputs": []
    },
    {
      "cell_type": "markdown",
      "source": [
        "Note that, as mentioned above, drugs, i,e nodes in this case, do not have features. To amend this, they randomly initialized node features using `torch.nn.Embedding` layer."
      ],
      "metadata": {
        "id": "UwVdSGdy_HPS"
      }
    },
    {
      "cell_type": "code",
      "source": [
        "# parameters for the above model\n",
        "graphsage_in_channels = 256\n",
        "graphsage_hidden_channels = 128\n",
        "graphsage_out_channels = 256\n",
        "graphsage_num_layers = 2\n",
        "dropout = 0.5 "
      ],
      "metadata": {
        "id": "O1FrDja3_mvc"
      },
      "execution_count": 13,
      "outputs": []
    },
    {
      "cell_type": "code",
      "source": [
        "initial_node_embeddings = torch.nn.Embedding(ddi_graph.num_nodes, graphsage_in_channels).to(device)"
      ],
      "metadata": {
        "id": "YqtwG_xXm5Y4"
      },
      "execution_count": 14,
      "outputs": []
    },
    {
      "cell_type": "code",
      "source": [
        "# Initialize our model\n",
        "graphsage_model = GraphSAGE(\n",
        "    SAGEConv, graphsage_in_channels,\n",
        "    graphsage_hidden_channels,\n",
        "    graphsage_out_channels,\n",
        "    graphsage_num_layers,\n",
        "    dropout\n",
        ").to(device)"
      ],
      "metadata": {
        "id": "0OaRLoCcAS_B"
      },
      "execution_count": 15,
      "outputs": []
    },
    {
      "cell_type": "markdown",
      "source": [
        "At this point, the model will produce, (after training which we haven't described as yet), the final embeddings of each node. The final tensor will have size (|V|, graphsage_out_channels). \n",
        "\n",
        "## DownStrem task (Link Prediction)\n",
        "\n",
        "Now we can take these embeddings and can use them in some downstream tasks. For this present work, it is link predictions, i,e, the task is to predict, given two new drugs, the probability that there will be interaction between the two drugs if taken together? To perform this, we need to define a link predictor. Below we will do that before going to describe training procedure.\n",
        "\n",
        "\n"
      ],
      "metadata": {
        "id": "y2hsh9lhBGEp"
      }
    },
    {
      "cell_type": "code",
      "source": [
        "#link predictor parameters\n",
        "link_predictor_in_channels = graphsage_out_channels\n",
        "link_predictor_hidden_channels = link_predictor_in_channels\n",
        "\n",
        "# it has binary output (wheather link exists or not)"
      ],
      "metadata": {
        "id": "-m8QLT-1CO-n"
      },
      "execution_count": 16,
      "outputs": []
    },
    {
      "cell_type": "markdown",
      "source": [
        "Below we will describe the LinkPredictor class, which will take into account the hadamard (elementwise) product of node representations of nodes $u$ and $v$, that is, $h_v^K$ and $h_u^K$ as $h_v^K ∘ h_u^K$, and pass it through a traditional deep neural network. "
      ],
      "metadata": {
        "id": "O4rj7neQEDwp"
      }
    },
    {
      "cell_type": "code",
      "source": [
        "class LinkPredictor(torch.nn.Module):\n",
        "  def __init__(self, in_channels, hidden_channels, dropout, out_channels=1, el_prod=lambda x,y: x*y):\n",
        "    super(LinkPredictor, self).__init__()\n",
        "\n",
        "    self.model = nn.Sequential(\n",
        "        nn.Linear(in_channels, hidden_channels),\n",
        "        nn.ReLU(),\n",
        "        nn.Dropout(p=dropout),\n",
        "        nn.Linear(hidden_channels, out_channels),\n",
        "        nn.Sigmoid()\n",
        "    )\n",
        "\n",
        "    self.el_prod = el_prod\n",
        "\n",
        "  def forward(self, u, v):\n",
        "    x = self.el_prod(u,v)\n",
        "    return self.model(x)\n"
      ],
      "metadata": {
        "id": "-kLMNf7CClO6"
      },
      "execution_count": 17,
      "outputs": []
    },
    {
      "cell_type": "code",
      "source": [
        "link_predictor = LinkPredictor(link_predictor_in_channels,link_predictor_hidden_channels,dropout).to(device)"
      ],
      "metadata": {
        "id": "OxrCwbl5dP2c"
      },
      "execution_count": 18,
      "outputs": []
    },
    {
      "cell_type": "markdown",
      "source": [
        "Now that we have built our models (GNN + LinkPredictor), we need to train these models. Below we will write a training method that will train the models. \n",
        "\n",
        "Since the downstream link prediction task is a binary output task, we will use `binary crossengropy` for our loss function. However, if the downstream task is different, we need to use the appropriate loss function.\n"
      ],
      "metadata": {
        "id": "IkdXdV2d7LzW"
      }
    },
    {
      "cell_type": "code",
      "source": [
        "from typing import ItemsView\n",
        "def train(graphsage_model, link_predictor, initial_node_embeddings,edge_index, pos_train_edges,\n",
        "          optimizer,batch_size):\n",
        "  total_loss, total_examples = 0,0 # in our case, we only output the loss as in other cases shown\n",
        "\n",
        "  # set our model to train (this two lines below is not clear, since we haven't written any train method for them)\n",
        "  graphsage_model.train()\n",
        "  link_predictor.train()\n",
        "\n",
        "  # Iterate over batches of training edges (positive edges)\n",
        "  # pos edge samples are contained in a Tensor of shape [2, batch_size]\n",
        "  # For sending batches of data, we will use pytorch's DataLoader method\n",
        "\n",
        "  for pos_samples in DataLoader(pos_train_edges, batch_size, shuffle=True):\n",
        "\n",
        "    # set the gradients to zeros\n",
        "    optimizer.zero_grad()\n",
        "\n",
        "    # run graphsage forward pass\n",
        "    node_embeddings = graphsage_model(initial_node_embeddings, edge_index) # h_v in the theory above\n",
        "\n",
        "    # sample batch_size negative edges; size = [2, batch_size]\n",
        "    neg_samples = negative_sampling(edge_index,\n",
        "                                    num_nodes=initial_node_embeddings.shape[0],\n",
        "                                    num_neg_samples= len(pos_samples),\n",
        "                                    method = 'dense'\n",
        "                                    ) \n",
        "    \n",
        "    # run linkPredictor forward pass on positive edge embeddings\n",
        "    pos_preds = link_predictor(node_embeddings[pos_samples[:,0]],\n",
        "                               node_embeddings[pos_samples[:,1]])\n",
        "    \n",
        "    # run linkPredictor forward pass on negative edge embeddings\n",
        "    neg_preds = link_predictor(node_embeddings[neg_samples[0]],\n",
        "                               node_embeddings[neg_samples[1]])\n",
        "    \n",
        "    preds = torch.concat((pos_preds, neg_preds))\n",
        "    labels = torch.concat((torch.ones_like(pos_preds),\n",
        "                           torch.zeros_like(neg_preds)))\n",
        "    \n",
        "    loss = F.binary_cross_entropy(preds,labels)\n",
        "\n",
        "    loss.backward()\n",
        "    optimizer.step()\n",
        "\n",
        "    num_examples = len(pos_preds)\n",
        "    total_loss += loss.item() * num_examples\n",
        "    total_examples += num_examples\n",
        "\n",
        "    return total_loss/total_examples\n",
        "\n",
        "\n",
        "\n",
        "\n"
      ],
      "metadata": {
        "id": "TIUysmV86kQ3"
      },
      "execution_count": 19,
      "outputs": []
    },
    {
      "cell_type": "code",
      "source": [
        "#@title Training Parameter\n",
        "lr = 0.005 #@param {type: 'number'}\n",
        "batch_size = 65536 #@param {type:'number'}\n",
        "epochs = 50 #@param {type: 'number'}\n",
        "eval_steps = 5 #@param {type: 'number'}"
      ],
      "metadata": {
        "id": "PY1PMNMrUFqN"
      },
      "execution_count": 20,
      "outputs": []
    },
    {
      "cell_type": "code",
      "source": [
        "optimizer = torch.optim.Adam(list(graphsage_model.parameters()) + list(initial_node_embeddings.parameters())+list(link_predictor.parameters()),lr=lr)"
      ],
      "metadata": {
        "id": "uk1LM9B7VWye"
      },
      "execution_count": 21,
      "outputs": []
    },
    {
      "cell_type": "markdown",
      "source": [
        "# Evaluation (Task specific)"
      ],
      "metadata": {
        "id": "bQDYl24efNlt"
      }
    },
    {
      "cell_type": "code",
      "source": [
        "pos_valid_edges = valid_edges['edge'].to(device)\n",
        "neg_valid_edges = valid_edges['edge_neg'].to(device)\n",
        "pos_test_edges = test_edges['edge'].to(device)\n",
        "neg_test_edges = test_edges['edge_neg'].to(device)"
      ],
      "metadata": {
        "id": "4blpPxAIe85Q"
      },
      "execution_count": 22,
      "outputs": []
    },
    {
      "cell_type": "markdown",
      "source": [
        "For this link prediction, evaluation is done via a metric called 'Hits'. For definition, look at the original reference code. "
      ],
      "metadata": {
        "id": "WV6YBrc6f87G"
      }
    },
    {
      "cell_type": "code",
      "source": [
        "from ogb.linkproppred import Evaluator\n",
        "\n",
        "evaluator = Evaluator(name=dataset_name)"
      ],
      "metadata": {
        "id": "cTFaRH49fX7H"
      },
      "execution_count": 23,
      "outputs": []
    },
    {
      "cell_type": "code",
      "source": [
        "@torch.no_grad()\n",
        "def test(graphsage_model, link_predictor, initial_node_embeddings, edge_index, \n",
        "         pos_valid_edges,neg_valid_edges, pos_test_edges, neg_test_edges, batch_size, evaluator):\n",
        "  \n",
        "  # run graphsage forward pass\n",
        "  final_node_embeddings = graphsage_model(initial_node_embeddings, edge_index)\n",
        "\n",
        "  # run link_predictor forward pass on positive validation edge embeddings\n",
        "  pos_valid_preds = []\n",
        "  \n",
        "  for pos_samples in DataLoader(pos_valid_edges, batch_size):\n",
        "    pos_preds = link_predictor(final_node_embeddings[pos_samples[:,0]],\n",
        "                               final_node_embeddings[pos_samples[:,1]])\n",
        "    \n",
        "    pos_valid_preds.append(pos_preds.squeeze()) # look up squeeze()\n",
        "\n",
        "  pos_valid_pred = torch.cat(pos_valid_preds, dim=0) # difference between torch.concat and torch.cat ?\n",
        "\n",
        "  # run link_predictor forward pass on negative validation edge embeddings\n",
        "  neg_valid_preds = []\n",
        "\n",
        "  for neg_samples in DataLoader(neg_valid_edges, batch_size):\n",
        "    neg_preds = link_predictor(final_node_embeddings[neg_samples[:,0]],\n",
        "                               final_node_embeddings[neg_samples[:,1]])\n",
        "    neg_valid_preds.append(neg_preds.squeeze()) # look up squeeze()\n",
        "  \n",
        "  neg_valid_pred = torch.cat(neg_valid_preds, dim=0)\n",
        "\n",
        "# run link_predictor forward pass on positive test edge embeddings\n",
        "  pos_test_preds = []\n",
        "  \n",
        "  for pos_samples in DataLoader(pos_test_edges, batch_size):\n",
        "    pos_preds = link_predictor(final_node_embeddings[pos_samples[:,0]],\n",
        "                               final_node_embeddings[pos_samples[:,1]])\n",
        "    \n",
        "    pos_test_preds.append(pos_preds.squeeze()) # look up squeeze()\n",
        "\n",
        "  pos_test_pred = torch.cat(pos_test_preds, dim=0) # difference between torch.concat and torch.cat ?\n",
        "\n",
        "  # run link_predictor forward pass on negative test edge embeddings\n",
        "  neg_test_preds = []\n",
        "\n",
        "  for neg_samples in DataLoader(neg_test_edges, batch_size):\n",
        "    neg_preds = link_predictor(final_node_embeddings[neg_samples[:,0]],\n",
        "                               final_node_embeddings[neg_samples[:,1]])\n",
        "    neg_test_preds.append(neg_preds.squeeze()) # look up squeeze()\n",
        "  \n",
        "  neg_test_pred = torch.cat(neg_test_preds, dim=0)\n",
        "\n",
        "\n",
        "  # Calculate Hits20\n",
        "  evaluator.K = 20\n",
        "  valid_hits = evaluator.eval({'y_pred_pos': pos_valid_pred, 'y_pred_neg': neg_valid_pred})\n",
        "  test_hits = evaluator.eval({'y_pred_pos': pos_test_pred, 'y_pred_neg': neg_test_pred})\n",
        "\n",
        "  return valid_hits, test_hits\n"
      ],
      "metadata": {
        "id": "-NhogsO3gTwt"
      },
      "execution_count": 24,
      "outputs": []
    },
    {
      "cell_type": "markdown",
      "source": [
        "Run the training and evaluation"
      ],
      "metadata": {
        "id": "XHgZDUPkkb68"
      }
    },
    {
      "cell_type": "code",
      "source": [
        "import matplotlib.pyplot as plt\n",
        "\n",
        "epochs_bar = trange(1,epochs+1, desc='Loss n/a')\n",
        "\n",
        "edge_index = ddi_graph.edge_index.to(device)\n",
        "pos_train_edges = train_edges['edge'].to(device)\n",
        "\n",
        "losses = []\n",
        "valid_hits_list = []\n",
        "test_hits_list = []\n",
        "\n",
        "for epoch in epochs_bar:\n",
        "  loss = train(graphsage_model, link_predictor, initial_node_embeddings.weight,edge_index, \n",
        "               pos_train_edges, optimizer, batch_size)\n",
        "  losses.append(loss)\n",
        "\n",
        "  epochs_bar.set_description(f'Loss {loss:0.4f}')\n",
        "\n",
        "  if epoch % eval_steps == 0:\n",
        "    valid_hits, test_hits = test(graphsage_model, link_predictor, initial_node_embeddings.weight,\n",
        "                                 edge_index,\n",
        "                                 pos_valid_edges, pos_test_edges,\n",
        "                                 neg_valid_edges,neg_test_edges,\n",
        "                                 batch_size, evaluator)\n",
        "    \n",
        "    print(f'\\nEpoch:{epoch},Validation Hits@20:{valid_hits[\"hits@20\"]:0.4f},Test Hits@20:{test_hits[\"hits@20\"]:0.04f}')\n",
        "\n",
        "    valid_hits_list.append(valid_hits[\"hits@20\"])\n",
        "    test_hits_list.append(test_hits[\"hits@20\"])\n",
        "  else:\n",
        "    valid_hits_list.append(valid_hits_list[-1] if valid_hits_list else 0)\n",
        "    test_hits_list.append(test_hits_list[-1] if test_hits_list else 0)\n",
        "\n",
        "plt.title(dataset.name + \": GraphSAGE\")\n",
        "plt.xlabel(\"Epoch\")\n",
        "plt.plot(losses, label = \"Training loss\")\n",
        "plt.plot(valid_hits_list, label = \"Validation Hits@20\")\n",
        "plt.plot(test_hits_list, label = \"Test Hits@20\")\n",
        "plt.legend()\n",
        "plt.show()"
      ],
      "metadata": {
        "colab": {
          "base_uri": "https://localhost:8080/",
          "height": 659
        },
        "id": "kdJPiPKbketN",
        "outputId": "7c797f6b-18fa-4e46-b198-b82cc3af7f77"
      },
      "execution_count": 25,
      "outputs": [
        {
          "output_type": "stream",
          "name": "stderr",
          "text": [
            "Loss 0.6890:  10%|█         | 5/50 [00:07<01:00,  1.34s/it]"
          ]
        },
        {
          "output_type": "stream",
          "name": "stdout",
          "text": [
            "\n",
            "Epoch:5,Validation Hits@20:0.0002,Test Hits@20:0.0001\n"
          ]
        },
        {
          "output_type": "stream",
          "name": "stderr",
          "text": [
            "Loss 0.6567:  20%|██        | 10/50 [00:11<00:48,  1.22s/it]"
          ]
        },
        {
          "output_type": "stream",
          "name": "stdout",
          "text": [
            "\n",
            "Epoch:10,Validation Hits@20:0.0002,Test Hits@20:0.0001\n"
          ]
        },
        {
          "output_type": "stream",
          "name": "stderr",
          "text": [
            "Loss 0.5888:  30%|███       | 15/50 [00:15<00:37,  1.06s/it]"
          ]
        },
        {
          "output_type": "stream",
          "name": "stdout",
          "text": [
            "\n",
            "Epoch:15,Validation Hits@20:0.0004,Test Hits@20:0.0003\n"
          ]
        },
        {
          "output_type": "stream",
          "name": "stderr",
          "text": [
            "Loss 0.5185:  40%|████      | 20/50 [00:20<00:34,  1.16s/it]"
          ]
        },
        {
          "output_type": "stream",
          "name": "stdout",
          "text": [
            "\n",
            "Epoch:20,Validation Hits@20:0.0001,Test Hits@20:0.0003\n"
          ]
        },
        {
          "output_type": "stream",
          "name": "stderr",
          "text": [
            "Loss 0.4665:  50%|█████     | 25/50 [00:24<00:25,  1.01s/it]"
          ]
        },
        {
          "output_type": "stream",
          "name": "stdout",
          "text": [
            "\n",
            "Epoch:25,Validation Hits@20:0.0002,Test Hits@20:0.0003\n"
          ]
        },
        {
          "output_type": "stream",
          "name": "stderr",
          "text": [
            "Loss 0.4423:  60%|██████    | 30/50 [00:28<00:21,  1.06s/it]"
          ]
        },
        {
          "output_type": "stream",
          "name": "stdout",
          "text": [
            "\n",
            "Epoch:30,Validation Hits@20:0.0003,Test Hits@20:0.0003\n"
          ]
        },
        {
          "output_type": "stream",
          "name": "stderr",
          "text": [
            "Loss 0.4238:  70%|███████   | 35/50 [00:33<00:17,  1.19s/it]"
          ]
        },
        {
          "output_type": "stream",
          "name": "stdout",
          "text": [
            "\n",
            "Epoch:35,Validation Hits@20:0.0002,Test Hits@20:0.0004\n"
          ]
        },
        {
          "output_type": "stream",
          "name": "stderr",
          "text": [
            "Loss 0.4105:  80%|████████  | 40/50 [00:37<00:10,  1.02s/it]"
          ]
        },
        {
          "output_type": "stream",
          "name": "stdout",
          "text": [
            "\n",
            "Epoch:40,Validation Hits@20:0.0005,Test Hits@20:0.0005\n"
          ]
        },
        {
          "output_type": "stream",
          "name": "stderr",
          "text": [
            "Loss 0.3863:  90%|█████████ | 45/50 [00:41<00:05,  1.11s/it]"
          ]
        },
        {
          "output_type": "stream",
          "name": "stdout",
          "text": [
            "\n",
            "Epoch:45,Validation Hits@20:0.0003,Test Hits@20:0.0003\n"
          ]
        },
        {
          "output_type": "stream",
          "name": "stderr",
          "text": [
            "Loss 0.3720: 100%|██████████| 50/50 [00:45<00:00,  1.09it/s]"
          ]
        },
        {
          "output_type": "stream",
          "name": "stdout",
          "text": [
            "\n",
            "Epoch:50,Validation Hits@20:0.0003,Test Hits@20:0.0005\n"
          ]
        },
        {
          "output_type": "stream",
          "name": "stderr",
          "text": [
            "\n"
          ]
        },
        {
          "output_type": "display_data",
          "data": {
            "text/plain": [
              "<Figure size 432x288 with 1 Axes>"
            ],
            "image/png": "[encoded data removed]"
          },
          "metadata": {
            "needs_background": "light"
          }
        }
      ]
    },
    {
      "cell_type": "code",
      "source": [
        ""
      ],
      "metadata": {
        "colab": {
          "base_uri": "https://localhost:8080/"
        },
        "id": "z03bPueD0QNf",
        "outputId": "446a67ad-a8de-43c2-e55b-496a43dab206"
      },
      "execution_count": 44,
      "outputs": [
        {
          "output_type": "execute_result",
          "data": {
            "text/plain": [
              "tensor([[4039, 2424, 4039,  ...,  338,  835, 3554],\n",
              "        [2424, 4039,  225,  ...,  708, 3554,  835]])"
            ]
          },
          "metadata": {},
          "execution_count": 44
        }
      ]
    }
  ]
}