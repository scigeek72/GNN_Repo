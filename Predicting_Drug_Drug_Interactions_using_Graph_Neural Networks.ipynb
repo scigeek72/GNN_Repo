{
  "cells": [
    {
      "cell_type": "markdown",
      "metadata": {
        "id": "view-in-github",
        "colab_type": "text"
      },
      "source": [
        "<a href=\"https://colab.research.google.com/github/scigeek72/GNN_Repo/blob/main/Predicting_Drug_Drug_Interactions_using_Graph_Neural%C2%A0Networks.ipynb\" target=\"_parent\"><img src=\"https://colab.research.google.com/assets/colab-badge.svg\" alt=\"Open In Colab\"/></a>"
      ]
    },
    {
      "cell_type": "markdown",
      "metadata": {
        "id": "_9eWJ1Lwid-g"
      },
      "source": [
        "# Predicting Drug-Drug Interactions using Graph Neural Networks\n",
        "\n",
        "---\n",
        "\n",
        "By Ananth Agarwal, Meg Richey, and Zeb Mehring as part of the Stanford CS 224W Fall 2021 course project.\n",
        "\n",
        "N.B. Follow along with the companion [Medium article](https://medium.com/stanford-cs224w/predicting-drug-drug-interactions-using-graph-neural-networks-6a093cc59a33)\n"
      ]
    },
    {
      "cell_type": "markdown",
      "metadata": {
        "id": "PVxSoQEiHYM5"
      },
      "source": [
        "Taking certain combinations of prescription drugs can be unsafe if the drugs interact with each other. Medical professionals and patients rely on drug-drug interaction databases to make safe medical decisions. In this Colab, we will learn about Graph Neural Networks and how we can train a model to predict whether two drugs will interact with each other.\n",
        "\n",
        "Outline:\n",
        "* Loading the drug-drug interaction graph from Open Graph Benchmark (OGB)\n",
        "* Defining our first Graph Neural Network (GNN) model: GraphSAGE\n",
        "* Exploring defining a modification to the traditional GraphSAGE operator"
      ]
    },
    {
      "cell_type": "markdown",
      "metadata": {
        "id": "DBgLAYC9HxC0"
      },
      "source": [
        "# Device\n",
        "We recommend using a GPU for this Colab.\n",
        "\n",
        "Please click `Runtime` and then `Change runtime type`. Then set the `hardware accelerator` to **GPU**."
      ]
    },
    {
      "cell_type": "markdown",
      "metadata": {
        "id": "l3P19x77ILAz"
      },
      "source": [
        "# Installation"
      ]
    },
    {
      "cell_type": "code",
      "execution_count": null,
      "metadata": {
        "colab": {
          "base_uri": "https://localhost:8080/"
        },
        "id": "xEGCHVJtikSo",
        "outputId": "fa27ebc4-843f-4cb2-a49f-4ff99fa38b1d"
      },
      "outputs": [
        {
          "output_type": "stream",
          "name": "stdout",
          "text": [
            "Looking in links: https://data.pyg.org/whl/torch-1.10.0+cu113.html\n",
            "Collecting torch-scatter\n",
            "  Downloading https://data.pyg.org/whl/torch-1.10.0%2Bcu113/torch_scatter-2.0.9-cp37-cp37m-linux_x86_64.whl (7.9 MB)\n",
            "\u001b[K     |████████████████████████████████| 7.9 MB 575 kB/s \n",
            "\u001b[?25hInstalling collected packages: torch-scatter\n",
            "Successfully installed torch-scatter-2.0.9\n",
            "Looking in links: https://data.pyg.org/whl/torch-1.10.0+cu113.html\n",
            "Collecting torch-sparse\n",
            "  Downloading https://data.pyg.org/whl/torch-1.10.0%2Bcu113/torch_sparse-0.6.12-cp37-cp37m-linux_x86_64.whl (3.5 MB)\n",
            "\u001b[K     |████████████████████████████████| 3.5 MB 5.4 MB/s \n",
            "\u001b[?25hRequirement already satisfied: scipy in /usr/local/lib/python3.7/dist-packages (from torch-sparse) (1.4.1)\n",
            "Requirement already satisfied: numpy>=1.13.3 in /usr/local/lib/python3.7/dist-packages (from scipy->torch-sparse) (1.19.5)\n",
            "Installing collected packages: torch-sparse\n",
            "Successfully installed torch-sparse-0.6.12\n",
            "Collecting torch-geometric\n",
            "  Downloading torch_geometric-2.0.3.tar.gz (370 kB)\n",
            "\u001b[K     |████████████████████████████████| 370 kB 5.2 MB/s \n",
            "\u001b[?25hRequirement already satisfied: numpy in /usr/local/lib/python3.7/dist-packages (from torch-geometric) (1.19.5)\n",
            "Requirement already satisfied: tqdm in /usr/local/lib/python3.7/dist-packages (from torch-geometric) (4.62.3)\n",
            "Requirement already satisfied: scipy in /usr/local/lib/python3.7/dist-packages (from torch-geometric) (1.4.1)\n",
            "Requirement already satisfied: networkx in /usr/local/lib/python3.7/dist-packages (from torch-geometric) (2.6.3)\n",
            "Requirement already satisfied: scikit-learn in /usr/local/lib/python3.7/dist-packages (from torch-geometric) (1.0.1)\n",
            "Requirement already satisfied: requests in /usr/local/lib/python3.7/dist-packages (from torch-geometric) (2.23.0)\n",
            "Requirement already satisfied: pandas in /usr/local/lib/python3.7/dist-packages (from torch-geometric) (1.1.5)\n",
            "Collecting rdflib\n",
            "  Downloading rdflib-6.1.1-py3-none-any.whl (482 kB)\n",
            "\u001b[K     |████████████████████████████████| 482 kB 41.9 MB/s \n",
            "\u001b[?25hRequirement already satisfied: googledrivedownloader in /usr/local/lib/python3.7/dist-packages (from torch-geometric) (0.4)\n",
            "Requirement already satisfied: jinja2 in /usr/local/lib/python3.7/dist-packages (from torch-geometric) (2.11.3)\n",
            "Requirement already satisfied: pyparsing in /usr/local/lib/python3.7/dist-packages (from torch-geometric) (3.0.6)\n",
            "Collecting yacs\n",
            "  Downloading yacs-0.1.8-py3-none-any.whl (14 kB)\n",
            "Requirement already satisfied: PyYAML in /usr/local/lib/python3.7/dist-packages (from torch-geometric) (3.13)\n",
            "Requirement already satisfied: MarkupSafe>=0.23 in /usr/local/lib/python3.7/dist-packages (from jinja2->torch-geometric) (2.0.1)\n",
            "Requirement already satisfied: python-dateutil>=2.7.3 in /usr/local/lib/python3.7/dist-packages (from pandas->torch-geometric) (2.8.2)\n",
            "Requirement already satisfied: pytz>=2017.2 in /usr/local/lib/python3.7/dist-packages (from pandas->torch-geometric) (2018.9)\n",
            "Requirement already satisfied: six>=1.5 in /usr/local/lib/python3.7/dist-packages (from python-dateutil>=2.7.3->pandas->torch-geometric) (1.15.0)\n",
            "Requirement already satisfied: setuptools in /usr/local/lib/python3.7/dist-packages (from rdflib->torch-geometric) (57.4.0)\n",
            "Collecting isodate\n",
            "  Downloading isodate-0.6.1-py2.py3-none-any.whl (41 kB)\n",
            "\u001b[K     |████████████████████████████████| 41 kB 521 kB/s \n",
            "\u001b[?25hRequirement already satisfied: importlib-metadata in /usr/local/lib/python3.7/dist-packages (from rdflib->torch-geometric) (4.8.2)\n",
            "Requirement already satisfied: typing-extensions>=3.6.4 in /usr/local/lib/python3.7/dist-packages (from importlib-metadata->rdflib->torch-geometric) (3.10.0.2)\n",
            "Requirement already satisfied: zipp>=0.5 in /usr/local/lib/python3.7/dist-packages (from importlib-metadata->rdflib->torch-geometric) (3.6.0)\n",
            "Requirement already satisfied: certifi>=2017.4.17 in /usr/local/lib/python3.7/dist-packages (from requests->torch-geometric) (2021.10.8)\n",
            "Requirement already satisfied: urllib3!=1.25.0,!=1.25.1,<1.26,>=1.21.1 in /usr/local/lib/python3.7/dist-packages (from requests->torch-geometric) (1.24.3)\n",
            "Requirement already satisfied: chardet<4,>=3.0.2 in /usr/local/lib/python3.7/dist-packages (from requests->torch-geometric) (3.0.4)\n",
            "Requirement already satisfied: idna<3,>=2.5 in /usr/local/lib/python3.7/dist-packages (from requests->torch-geometric) (2.10)\n",
            "Requirement already satisfied: threadpoolctl>=2.0.0 in /usr/local/lib/python3.7/dist-packages (from scikit-learn->torch-geometric) (3.0.0)\n",
            "Requirement already satisfied: joblib>=0.11 in /usr/local/lib/python3.7/dist-packages (from scikit-learn->torch-geometric) (1.1.0)\n",
            "Building wheels for collected packages: torch-geometric\n",
            "  Building wheel for torch-geometric (setup.py) ... \u001b[?25l\u001b[?25hdone\n",
            "  Created wheel for torch-geometric: filename=torch_geometric-2.0.3-py3-none-any.whl size=581969 sha256=6dc6a1c439fa16312c3c0717f8b06f72c7eb2212c3dc152d53c5b9621adc9f18\n",
            "  Stored in directory: /root/.cache/pip/wheels/c3/2a/58/87ce0508964d4def1aafb92750c4f3ac77038efd1b9a89dcf5\n",
            "Successfully built torch-geometric\n",
            "Installing collected packages: isodate, yacs, rdflib, torch-geometric\n",
            "Successfully installed isodate-0.6.1 rdflib-6.1.1 torch-geometric-2.0.3 yacs-0.1.8\n",
            "  Building wheel for deepsnap (setup.py) ... \u001b[?25l\u001b[?25hdone\n",
            "Collecting ogb\n",
            "  Downloading ogb-1.3.2-py3-none-any.whl (78 kB)\n",
            "\u001b[K     |████████████████████████████████| 78 kB 3.5 MB/s \n",
            "\u001b[?25hRequirement already satisfied: urllib3>=1.24.0 in /usr/local/lib/python3.7/dist-packages (from ogb) (1.24.3)\n",
            "Requirement already satisfied: numpy>=1.16.0 in /usr/local/lib/python3.7/dist-packages (from ogb) (1.19.5)\n",
            "Requirement already satisfied: pandas>=0.24.0 in /usr/local/lib/python3.7/dist-packages (from ogb) (1.1.5)\n",
            "Requirement already satisfied: six>=1.12.0 in /usr/local/lib/python3.7/dist-packages (from ogb) (1.15.0)\n",
            "Requirement already satisfied: torch>=1.6.0 in /usr/local/lib/python3.7/dist-packages (from ogb) (1.10.0+cu111)\n",
            "Requirement already satisfied: scikit-learn>=0.20.0 in /usr/local/lib/python3.7/dist-packages (from ogb) (1.0.1)\n",
            "Requirement already satisfied: tqdm>=4.29.0 in /usr/local/lib/python3.7/dist-packages (from ogb) (4.62.3)\n",
            "Collecting outdated>=0.2.0\n",
            "  Downloading outdated-0.2.1-py3-none-any.whl (7.5 kB)\n",
            "Requirement already satisfied: requests in /usr/local/lib/python3.7/dist-packages (from outdated>=0.2.0->ogb) (2.23.0)\n",
            "Collecting littleutils\n",
            "  Downloading littleutils-0.2.2.tar.gz (6.6 kB)\n",
            "Requirement already satisfied: python-dateutil>=2.7.3 in /usr/local/lib/python3.7/dist-packages (from pandas>=0.24.0->ogb) (2.8.2)\n",
            "Requirement already satisfied: pytz>=2017.2 in /usr/local/lib/python3.7/dist-packages (from pandas>=0.24.0->ogb) (2018.9)\n",
            "Requirement already satisfied: threadpoolctl>=2.0.0 in /usr/local/lib/python3.7/dist-packages (from scikit-learn>=0.20.0->ogb) (3.0.0)\n",
            "Requirement already satisfied: joblib>=0.11 in /usr/local/lib/python3.7/dist-packages (from scikit-learn>=0.20.0->ogb) (1.1.0)\n",
            "Requirement already satisfied: scipy>=1.1.0 in /usr/local/lib/python3.7/dist-packages (from scikit-learn>=0.20.0->ogb) (1.4.1)\n",
            "Requirement already satisfied: typing-extensions in /usr/local/lib/python3.7/dist-packages (from torch>=1.6.0->ogb) (3.10.0.2)\n",
            "Requirement already satisfied: idna<3,>=2.5 in /usr/local/lib/python3.7/dist-packages (from requests->outdated>=0.2.0->ogb) (2.10)\n",
            "Requirement already satisfied: chardet<4,>=3.0.2 in /usr/local/lib/python3.7/dist-packages (from requests->outdated>=0.2.0->ogb) (3.0.4)\n",
            "Requirement already satisfied: certifi>=2017.4.17 in /usr/local/lib/python3.7/dist-packages (from requests->outdated>=0.2.0->ogb) (2021.10.8)\n",
            "Building wheels for collected packages: littleutils\n",
            "  Building wheel for littleutils (setup.py) ... \u001b[?25l\u001b[?25hdone\n",
            "  Created wheel for littleutils: filename=littleutils-0.2.2-py3-none-any.whl size=7048 sha256=abdd2c76a99a781169c3b5a5b97f6bd4fc9ce0fbeef5828c90ef13fc64aa6c36\n",
            "  Stored in directory: /root/.cache/pip/wheels/d6/64/cd/32819b511a488e4993f2fab909a95330289c3f4e0f6ef4676d\n",
            "Successfully built littleutils\n",
            "Installing collected packages: littleutils, outdated, ogb\n",
            "Successfully installed littleutils-0.2.2 ogb-1.3.2 outdated-0.2.1\n"
          ]
        }
      ],
      "source": [
        "# Install torch geometric\n",
        "!pip install torch-scatter -f https://data.pyg.org/whl/torch-1.10.0+cu113.html\n",
        "!pip install torch-sparse -f https://data.pyg.org/whl/torch-1.10.0+cu113.html\n",
        "!pip install torch-geometric\n",
        "!pip install -q git+https://github.com/snap-stanford/deepsnap.git\n",
        "!pip install ogb"
      ]
    },
    {
      "cell_type": "code",
      "execution_count": null,
      "metadata": {
        "id": "BUHc02YsiiUv"
      },
      "outputs": [],
      "source": [
        "# Imports\n",
        "import torch\n",
        "import torch_geometric\n",
        "import torch.nn as nn\n",
        "import torch.nn.functional as F\n",
        "\n",
        "from torch_geometric.loader import DataLoader\n",
        "from torch_geometric.nn import SAGEConv\n",
        "from torch_geometric.utils import negative_sampling\n",
        "from tqdm import trange"
      ]
    },
    {
      "cell_type": "markdown",
      "metadata": {
        "id": "3oEjyChoKWfv"
      },
      "source": [
        "Setup using GPU:"
      ]
    },
    {
      "cell_type": "code",
      "execution_count": null,
      "metadata": {
        "id": "hrX9HTzZWx3M"
      },
      "outputs": [],
      "source": [
        "device = torch.device('cuda' if torch.cuda.is_available() else 'cpu')"
      ]
    },
    {
      "cell_type": "markdown",
      "metadata": {
        "id": "8njTGGCWjvWN"
      },
      "source": [
        "# OGB Drug-Drug Interaction Dataset"
      ]
    },
    {
      "cell_type": "markdown",
      "metadata": {
        "id": "jpO_ieaRXNki"
      },
      "source": [
        "We will be using the [PyTorch Geometric library (PyG)](https://github.com/pyg-team/pytorch_geometric) throughout this Colab. PyTorch Geometric is built on top of PyTorch to simplify implementation of Graph Neural Networks, which we will cover in-depth. \n",
        "The drug-drug interaction (DDI) dataset **ogbl-ddi** is provided by **[Open Graph Benchmark (OGB)](https://ogb.stanford.edu/)**, which provides datasets for a variety of Graph ML tasks. ogbl-ddi is a link prediction dataset [1].\n",
        "\n",
        "Following the example from the [OGB website](https://ogb.stanford.edu/docs/linkprop/#pyg), we can load the DDI dataset into PyG:"
      ]
    },
    {
      "cell_type": "code",
      "execution_count": null,
      "metadata": {
        "colab": {
          "base_uri": "https://localhost:8080/"
        },
        "id": "fUDQoZUdixSD",
        "outputId": "1d635f6b-469a-4f02-d45f-da1d62363cbb"
      },
      "outputs": [
        {
          "output_type": "stream",
          "name": "stdout",
          "text": [
            "Downloading http://snap.stanford.edu/ogb/data/linkproppred/ddi.zip\n"
          ]
        },
        {
          "output_type": "stream",
          "name": "stderr",
          "text": [
            "Downloaded 0.04 GB: 100%|██████████| 46/46 [00:48<00:00,  1.05s/it]\n"
          ]
        },
        {
          "output_type": "stream",
          "name": "stdout",
          "text": [
            "Extracting dataset/ddi.zip\n"
          ]
        },
        {
          "output_type": "stream",
          "name": "stderr",
          "text": [
            "Processing...\n"
          ]
        },
        {
          "output_type": "stream",
          "name": "stdout",
          "text": [
            "Loading necessary files...\n",
            "This might take a while.\n",
            "Processing graphs...\n"
          ]
        },
        {
          "output_type": "stream",
          "name": "stderr",
          "text": [
            "100%|██████████| 1/1 [00:00<00:00, 31.39it/s]\n"
          ]
        },
        {
          "output_type": "stream",
          "name": "stdout",
          "text": [
            "Converting graphs into PyG objects...\n"
          ]
        },
        {
          "output_type": "stream",
          "name": "stderr",
          "text": [
            "100%|██████████| 1/1 [00:00<00:00, 1665.73it/s]"
          ]
        },
        {
          "output_type": "stream",
          "name": "stdout",
          "text": [
            "Saving...\n",
            "The ogbl-ddi dataset has 1 graph(s).\n"
          ]
        },
        {
          "output_type": "stream",
          "name": "stderr",
          "text": [
            "\n",
            "Done!\n"
          ]
        }
      ],
      "source": [
        "from ogb.linkproppred import PygLinkPropPredDataset\n",
        "\n",
        "dataset_name = 'ogbl-ddi'\n",
        "dataset = PygLinkPropPredDataset(name=dataset_name)\n",
        "print(f'The {dataset_name} dataset has {len(dataset)} graph(s).')"
      ]
    },
    {
      "cell_type": "markdown",
      "metadata": {
        "id": "yZBCDGvV-E4w"
      },
      "source": [
        "The dataset contains 1 graph, the full DDI network. Define the DDI graph as $G = (V, E)$, where $V$ is the set of nodes and $E$ is the set of edges.\n",
        "Following the [OGB definitions](https://ogb.stanford.edu/docs/linkprop/#ogbl-ddi):\n",
        "* Each **node** $v \\in V$ is an FDA-approved or experimental drug\n",
        "* An **edge** between two drugs $u$ and $v$ indicates that taking the two drugs together has a considerably different effect than the expected effect if they acted independently\n",
        "\n",
        "Let's get the graph, which is a [`torch_geometric.data.Data`](https://pytorch-geometric.readthedocs.io/en/latest/notes/introduction.html#data-handling-of-graphs) object, from `dataset` and print some of its attributes to learn more about the graph's structure. Note that PyG gives us a graph that only contains training edges, so in reality the full graph contains more edges. More on the dataset split later."
      ]
    },
    {
      "cell_type": "code",
      "execution_count": null,
      "metadata": {
        "colab": {
          "base_uri": "https://localhost:8080/"
        },
        "id": "R1TuCUbS_XZi",
        "outputId": "07891997-8525-4315-984f-76b5f619a2c2"
      },
      "outputs": [
        {
          "output_type": "stream",
          "name": "stdout",
          "text": [
            "DDI graph object: Data(edge_index=[2, 2135822])\n"
          ]
        },
        {
          "output_type": "stream",
          "name": "stderr",
          "text": [
            "/usr/local/lib/python3.7/dist-packages/torch_geometric/data/storage.py:264: UserWarning: Unable to accurately infer 'num_nodes' from the attribute set '{'edge_index'}'. Please explicitly set 'num_nodes' as an attribute of 'data' to suppress this warning\n",
            "  \" to suppress this warning\")\n"
          ]
        },
        {
          "output_type": "stream",
          "name": "stdout",
          "text": [
            "Number of nodes |V|: 4267\n",
            "Number of (training) edges |E|: 2135822\n",
            "Is undirected: True\n",
            "Average node degree: 500.54\n",
            "Number of node features: 0\n",
            "Has isolated nodes: False\n",
            "Has self-loops: False\n"
          ]
        }
      ],
      "source": [
        "# This graph only contains training edges\n",
        "ddi_graph = dataset[0]\n",
        "\n",
        "print(f'DDI graph object: {ddi_graph}')\n",
        "print(f'Number of nodes |V|: {ddi_graph.num_nodes}')\n",
        "print(f'Number of (training) edges |E|: {ddi_graph.num_edges}')\n",
        "print(f'Is undirected: {ddi_graph.is_undirected()}')\n",
        "# Note that since the graph is undirected, PyG includes both (u, v) and (v, u) as edges\n",
        "print(f'Average node degree: {ddi_graph.num_edges / ddi_graph.num_nodes:.2f}')\n",
        "print(f'Number of node features: {ddi_graph.num_node_features}')\n",
        "print(f'Has isolated nodes: {ddi_graph.has_isolated_nodes()}')\n",
        "print(f'Has self-loops: {ddi_graph.has_self_loops()}')"
      ]
    },
    {
      "cell_type": "markdown",
      "metadata": {
        "id": "bWMI5rZGbP50"
      },
      "source": [
        "`edge_index` is an important property that we will need for building GNNs. It is a list of edges with shape `[2, |E|]`. Important: since `ddi_graph` is undirected, $E$ includes both $(u, v)$ and $(v, u)$ for two drugs $u$ and $v$ that interact.\n",
        "\n",
        "Note that there are no node features, so we will need to address this when building our model. "
      ]
    },
    {
      "cell_type": "markdown",
      "metadata": {
        "id": "3tm_05FFc9cS"
      },
      "source": [
        "# Task\n",
        "\n",
        "The DDI graph is not static; it will evolve over time, for example new drugs will be discovered. We want to develop a model where we can input two drugs and output a prediction of if they interact with each other. This is a **link prediction** task: given two nodes $u, v \\in V$, predict the existence of edge $(u, v)$."
      ]
    },
    {
      "cell_type": "markdown",
      "metadata": {
        "id": "9s9gO950_4Vc"
      },
      "source": [
        "# Dataset Split\n",
        "\n",
        "We need to have separate **train**, **validation**, and **test** datasets. Generally, setting up data splits for link prediction is tricky, because we only have our one graph of known interactions to work with. Fortunately, OGB provides us a dataset split.\n",
        "\n",
        "First, some definitions:\n",
        "* **Positive edges** are edges that exist in the graph: the set $\\{(u, v) \\in E\\}$, where $u, v \\in V$.\n",
        "* **Negative edges** are edges that don't exist in the graph: the set $\\{(u, v) \\notin E\\}$. \n",
        "We need positive and negative edges to train our link prediction model.\n",
        "\n",
        "The code below gets the edge split. [As explained on the OGB website](https://ogb.stanford.edu/docs/linkprop/#ogbl-ddi), it is a \"protein-target split\": the edges are split such that drugs in the validation and test sets target different proteins than the drugs in the training set. The GNN will be trained using only the edges in the training set - at training time, it doesn't know anything about the validation or test edges. You can think of this as essentially removing the validation and test edges from the full known DDI graph when we are training the model on it. PyG has facilitated this for us: as noted before, `ddi_graph` only contains training edges."
      ]
    },
    {
      "cell_type": "code",
      "execution_count": null,
      "metadata": {
        "id": "LBPnvTugW1gF"
      },
      "outputs": [],
      "source": [
        "split_edges = dataset.get_edge_split()\n",
        "train_edges, valid_edges, test_edges = split_edges['train'], split_edges['valid'], split_edges['test']"
      ]
    },
    {
      "cell_type": "markdown",
      "metadata": {
        "id": "hyLw0A4WXLfm"
      },
      "source": [
        "Below we check how many edges are in each set:"
      ]
    },
    {
      "cell_type": "code",
      "execution_count": null,
      "metadata": {
        "colab": {
          "base_uri": "https://localhost:8080/"
        },
        "id": "S1VP7Io9ZI9q",
        "outputId": "37bf357f-83e1-45dc-d93b-e8e31fad621d"
      },
      "outputs": [
        {
          "output_type": "stream",
          "name": "stdout",
          "text": [
            "Number of training positive edges: 1067911\n",
            "Number of validation positive edges: 133489\n",
            "Number of validation negative edges: 101882\n",
            "Number of test positive edges: 133489\n",
            "Number of test negative edges: 101882\n"
          ]
        }
      ],
      "source": [
        "print(f'Number of training positive edges: {train_edges[\"edge\"].shape[0]}')\n",
        "print(f'Number of validation positive edges: {valid_edges[\"edge\"].shape[0]}')\n",
        "print(f'Number of validation negative edges: {valid_edges[\"edge_neg\"].shape[0]}')\n",
        "print(f'Number of test positive edges: {test_edges[\"edge\"].shape[0]}')\n",
        "print(f'Number of test negative edges: {valid_edges[\"edge_neg\"].shape[0]}')"
      ]
    },
    {
      "cell_type": "markdown",
      "metadata": {
        "id": "zI7W9ReYPpCn"
      },
      "source": [
        "Quick clarification note: `ddi_graph.edge_index` has shape [2, 2 * `train_edge[\"edge\"].shape[0]`] because we use the `edge_index` in our GNN, which requires sending information from $u$ to $v$ and $v$ to $u$ (as we will see below)."
      ]
    },
    {
      "cell_type": "markdown",
      "metadata": {
        "id": "7wHtYOJ6Z16K"
      },
      "source": [
        "Note that validation and test negative edges are given to us by PyG, but training negative edges are not. As we will see, while training we don't just work with one set of negative edges; instead, we sample negative edges from the graph for each training mini-batch."
      ]
    },
    {
      "cell_type": "markdown",
      "metadata": {
        "id": "iy4lguEXXy1m"
      },
      "source": [
        "# Models\n",
        "\n",
        "Our overall model has two parts: \n",
        "\n",
        "1) Graph Neural Network to generate node embeddings\n",
        "\n",
        "2) Deep neural network that outputs a probability for a link prediction"
      ]
    },
    {
      "cell_type": "markdown",
      "metadata": {
        "id": "EwrWOr_7bHMy"
      },
      "source": [
        "## Graph Neural Networks (GNNs)"
      ]
    },
    {
      "cell_type": "markdown",
      "metadata": {
        "id": "2lWm3BxOGFT_"
      },
      "source": [
        "**Graph Neural Networks** are designed to take advantage of relational structure in networks to develop high-quality predictions. The input is the network of interest, and the output is node embeddings that can be applied to node-level, edge-level, and graph-level tasks. GNN layers have two primary components:\n",
        "* **Message passing** between nodes and their neighbors\n",
        "* **Aggregation** of received messages for each node to update the node's embedding\n",
        "\n",
        "Let $h_v^{(l)}$ be the **node embedding** vector of node $v$ at layer $l$ of the GNN. The embedding at the next layer $h_v^{(l + 1)}$ is determined by the messages received from neighbors, the aggregation function applied to these messages, and how this result is combined with $h_v^{(l)}$. We can formally express this using the following equation: \n",
        "$$h_v^{(l + 1)} = \\text{UPDATE}(h_v^{(l)}, \\text{AGG}(\\{m_u^{(l + 1)}, \\forall u \\in N(v)\\}))$$\n",
        "$$\\text{Equation (1)}$$\n",
        "where $N(v)$ is the set of neighbors of $v$, $m_u^{(l + 1)}$ is the message passed by neighbor $u$ in layer $l + 1$, AGG is the aggregation function applied to messages, and UPDATE is the update function to compute the updated embedding. Different GNN layer architectures use different message, aggregation, and update functions. We will use the **GraphSAGE** framework here."
      ]
    },
    {
      "cell_type": "markdown",
      "metadata": {
        "id": "lK2RvzrManrJ"
      },
      "source": [
        "### GraphSAGE"
      ]
    },
    {
      "cell_type": "markdown",
      "metadata": {
        "id": "53XtxCEUFPLw"
      },
      "source": [
        "GraphSAGE ([Hamilton et al. (2017)](https://arxiv.org/abs/1706.02216)) is a GNN that uses the following operator to learn node embeddings [2]:\n",
        "$$h_v^{(l + 1)} = W_1 \\cdot h_v^{(l)} + W_2 \\cdot \\text{mean}(\\{h_u^{(l)}, \\forall u \\in N(v)\\})$$\n",
        "$$\\text{Equation (2)}$$\n",
        "where $W_1$ and $W_2$ are learnable weight matrices. We can stack multiple layers that use this operator to build our GNN. PyG provides an implementation of this operator in the [`SAGEConv`](https://pytorch-geometric.readthedocs.io/en/latest/modules/nn.html#torch_geometric.nn.conv.SAGEConv) class. For illustrative purposes, we will walk through the definition of the full GraphSAGE GNN module. We will use `SAGEConv` as the convolutional operator, but we will pass this as a parameter to creating our model, because later we will define a custom operator that we would like to experiment with instead.\n",
        "\n",
        "For now, we will not have any edge attributes (`edge_attr=None`), so you can ignore the `forward_with_edge_attr` function. We will revisit this later in the Colab.\n"
      ]
    },
    {
      "cell_type": "code",
      "execution_count": null,
      "metadata": {
        "id": "jvUR_ZqK6JXc"
      },
      "outputs": [],
      "source": [
        "class GraphSAGE(torch.nn.Module):\n",
        "    \"\"\"Graph Neural Network built with the GraphSAGE architecture.\"\"\"\n",
        "\n",
        "    def __init__(self, conv, in_channels, hidden_channels, out_channels, num_layers, dropout):\n",
        "        super(GraphSAGE, self).__init__()\n",
        "        \n",
        "        self.convs = torch.nn.ModuleList()\n",
        "        assert (num_layers >= 2), 'Have at least 2 layers'\n",
        "        # Add a conv for every layer. As with other neural networks, dimensions must match \n",
        "        # from one layer to the next.\n",
        "        # We also apply normalization, such that the embeddings that are output after\n",
        "        # each convolution layer are L2 normalized.\n",
        "        self.convs.append(conv(in_channels, hidden_channels, normalize=True))\n",
        "        for l in range(num_layers - 2):\n",
        "            self.convs.append(conv(hidden_channels, hidden_channels, normalize=True))\n",
        "        self.convs.append(conv(hidden_channels, out_channels, normalize=True))\n",
        "\n",
        "        self.num_layers = num_layers\n",
        "        self.dropout = dropout\n",
        "\n",
        "    def forward(self, x, edge_index, edge_attr):\n",
        "        if edge_attr is not None:\n",
        "            return self.forward_with_edge_attr(x, edge_index, edge_attr)\n",
        "\n",
        "        # x is the matrix of initial node embeddings, shape [N, in_channels]\n",
        "        for i in range(self.num_layers - 1):\n",
        "            # Conducts message passing and aggregation for layer i\n",
        "            x = self.convs[i](x, edge_index)\n",
        "            # x now has shape [N, hidden_channels]\n",
        "            # Pass through non-linearity\n",
        "            x = F.relu(x)\n",
        "\n",
        "            x = F.dropout(x, p=self.dropout, training=self.training)\n",
        "\n",
        "        # Generate final embeddings. x has shape [N, out_channels]\n",
        "        x = self.convs[self.num_layers - 1](x, edge_index)\n",
        "        return x\n",
        "  \n",
        "    def forward_with_edge_attr(self, x, edge_index, edge_attr):\n",
        "        # x is the matrix of initial node embeddings, shape [N, in_channels]\n",
        "        for i in range(self.num_layers - 1):\n",
        "            # Conducts message passing and aggregation for layer i\n",
        "            x = self.convs[i](x, edge_index, edge_attr)\n",
        "            # x has shape [N, hidden_channels]\n",
        "            # Pass through non-linearity\n",
        "            x = F.relu(x)\n",
        "\n",
        "            x = F.dropout(x, p=self.dropout,training=self.training)\n",
        "\n",
        "        # Generate final embeddings. x has shape [N, out_channels]\n",
        "        x = self.convs[self.num_layers - 1](x, edge_index, edge_attr)\n",
        "        return x"
      ]
    },
    {
      "cell_type": "markdown",
      "metadata": {
        "id": "cIyQ3Pxs-6tJ"
      },
      "source": [
        "Our GraphSAGE model with $K$ layers has the following parameters:\n",
        "* `in_channels`: Dimension of initial node embeddings: $h^{(0)}_v \\in \\mathbb{R}^{(in\\_channels)}, \\forall v \\in V$. Since the drugs have no node features, we will randomly initialize these vectors.\n",
        "* `hidden_channels`: Dimension of intermediary node embeddings: $h^{(1)}_v \\ldots h^{(K - 1)}_v \\in \\mathbb{R}^{(hidden\\_channels)}, \\forall v \\in V$\n",
        "* `out_channels`: Dimension of final node embeddings: $h^{(K)}_v \\in \\mathbb{R}^{(out\\_channels)}, \\forall v \\in V$\n",
        "* `num_layers`: Number of layers in our GNN, $K$. This is the number of times the GraphSAGE operator is applied.\n",
        "* `dropout`: Dropout is applied to the weight matrices $W_1$ and $W_2$\n",
        "\n",
        "In the OGB leaderboard for best performance on ogbl-ddi, Hu et al. (2020) ([paper](https://arxiv.org/abs/2005.00687), [code](https://github.com/snap-stanford/ogb/tree/master/examples/linkproppred/ddi)) demonstrated that GraphSAGE performs well [3].\n",
        "For tutorial simplicity, we default initialize these parameters to the same values used in their work, though we have made the parameters configurable so feel free to use the UI on the right to explore other values."
      ]
    },
    {
      "cell_type": "code",
      "execution_count": null,
      "metadata": {
        "id": "ZxrwkmOPX65t"
      },
      "outputs": [],
      "source": [
        "#@title GraphSAGE parameters\n",
        "graphsage_in_channels = 256 #@param {type: 'number'}\n",
        "graphsage_hidden_channels = 256 #@param {type: 'number'}\n",
        "graphsage_out_channels = 256 #@param {type: 'number'}\n",
        "graphsage_num_layers = 2 #@param {type: 'number'}\n",
        "dropout = 0.5 #@param {type: 'slider', min:0, max:1, step:0.1}"
      ]
    },
    {
      "cell_type": "markdown",
      "metadata": {
        "id": "48lYoO9GKLOU"
      },
      "source": [
        "Since the drugs don't have any features, we create our own initial embeddings using `torch.nn.Embedding`:"
      ]
    },
    {
      "cell_type": "code",
      "execution_count": null,
      "metadata": {
        "colab": {
          "base_uri": "https://localhost:8080/"
        },
        "id": "_IAZqW0UKkWX",
        "outputId": "da3bf52a-ece0-4337-e206-cb4349dc0a9e"
      },
      "outputs": [
        {
          "output_type": "stream",
          "name": "stderr",
          "text": [
            "/usr/local/lib/python3.7/dist-packages/torch_geometric/data/storage.py:264: UserWarning: Unable to accurately infer 'num_nodes' from the attribute set '{'edge_index'}'. Please explicitly set 'num_nodes' as an attribute of 'data' to suppress this warning\n",
            "  \" to suppress this warning\")\n"
          ]
        }
      ],
      "source": [
        "initial_node_embeddings = torch.nn.Embedding(ddi_graph.num_nodes, graphsage_in_channels).to(device)"
      ]
    },
    {
      "cell_type": "markdown",
      "metadata": {
        "id": "9xehDwiCG84g"
      },
      "source": [
        "`initial_node_embeddings` has shape [$|V|$, `graphsage_in_channels`]. Each row is the embedding of a node $v$.\n",
        "\n",
        "We initialize our GraphSAGE model next:"
      ]
    },
    {
      "cell_type": "code",
      "execution_count": null,
      "metadata": {
        "id": "rWAF_cTRG7fG"
      },
      "outputs": [],
      "source": [
        "graphsage_model = GraphSAGE(SAGEConv, graphsage_in_channels, \n",
        "                                 graphsage_hidden_channels,\n",
        "                                 graphsage_out_channels,\n",
        "                                 graphsage_num_layers, \n",
        "                                 dropout).to(device)"
      ]
    },
    {
      "cell_type": "markdown",
      "metadata": {
        "id": "GXmHxjq8HwHN"
      },
      "source": [
        "The `forward` pass takes `initial_node_embeddings` as input, and passes it through `num_layers` `SAGEConv` layers to produce the final node embeddings. These final embeddings are a tensor with shape [$|V|$, `graphsage_out_channels`]. So far though, we only have embeddings for individual nodes. For link prediction, we need a model that takes two node embeddings as inputs, and outputs a prediction for the existence of an edge."
      ]
    },
    {
      "cell_type": "markdown",
      "metadata": {
        "id": "7mv2fv2eaqcT"
      },
      "source": [
        "## Deep Neural Network Link Predictor\n",
        "\n",
        "We combine the node embeddings for the edge we would like to predict by taking an element-wise product: $h_u^{K} \\circ h_v^{K}$. We now pass this through a 2-layer neural network that outputs a link prediction probability using a sigmoid function.\n",
        "\n"
      ]
    },
    {
      "cell_type": "code",
      "execution_count": null,
      "metadata": {
        "id": "txV7TZhCdzRw"
      },
      "outputs": [],
      "source": [
        "link_predictor_in_channels = graphsage_out_channels\n",
        "link_predictor_hidden_channels = link_predictor_in_channels"
      ]
    },
    {
      "cell_type": "code",
      "execution_count": null,
      "metadata": {
        "id": "lvbJ0hKNbT0b"
      },
      "outputs": [],
      "source": [
        "class LinkPredictor(torch.nn.Module):\n",
        "    \"\"\"Generic deep neural network that transforms two inputs into a single output.\"\"\"\n",
        "\n",
        "    def __init__(self, in_channels, hidden_channels, dropout, out_channels=1,\n",
        "                concat=lambda x, y: x * y):\n",
        "        super(LinkPredictor, self).__init__()\n",
        "\n",
        "        self.model = nn.Sequential(nn.Linear(in_channels, hidden_channels), nn.ReLU(), \n",
        "                                  nn.Dropout(p=dropout), nn.Linear(hidden_channels, out_channels), nn.Sigmoid())\n",
        "        \n",
        "        self.concat = concat\n",
        "    \n",
        "    def forward(self, u, v):\n",
        "        x = self.concat(u, v)\n",
        "        return self.model(x)"
      ]
    },
    {
      "cell_type": "code",
      "execution_count": null,
      "metadata": {
        "id": "A2P-Xozidr4A"
      },
      "outputs": [],
      "source": [
        "link_predictor = LinkPredictor(in_channels=link_predictor_in_channels, \n",
        "                               hidden_channels=link_predictor_hidden_channels, \n",
        "                               dropout=dropout).to(device)"
      ]
    },
    {
      "cell_type": "markdown",
      "metadata": {
        "id": "zLKVLQHVauDm"
      },
      "source": [
        "# Training\n",
        "\n",
        "Training our full model (GraphSAGE + link predictor neural network) follows these steps:\n",
        "\n",
        "* For each `batch_size` mini-batch of training edges sampled using `torch_geometric.loader.DataLoader`:\n",
        "  * Run the GraphSAGE GNN forward pass starting with the initial node embeddings and the `edge_index` to generate node embeddings. Note that `edge_index` only contains training edges.\n",
        "  * Sample `batch_size` negative edges. PyG provides a utility function that does this.\n",
        "  * For each positive and negative edge, get the pair of node embeddings and run the forward pass of the link predictor to generate predictions\n",
        "  * Calculate loss for the predictions\n",
        "  * Backpropagate and update parameters\n",
        "\n",
        "Since we are predicting existence of edges (0 or 1), our loss function is **binary cross-entropy loss**."
      ]
    },
    {
      "cell_type": "code",
      "execution_count": null,
      "metadata": {
        "id": "zKh1KwifJsYp"
      },
      "outputs": [],
      "source": [
        "def train(graphsage_model, link_predictor, initial_node_embeddings, edge_index, \n",
        "          pos_train_edges, optimizer, batch_size, edge_attr=None):\n",
        "    \"\"\"Train the full model (GraphSAGE + LinkPredictor) using training edges.\"\"\"\n",
        "    \n",
        "    total_loss, total_examples = 0, 0\n",
        "\n",
        "    # Set our models to train\n",
        "    graphsage_model.train()\n",
        "    link_predictor.train()\n",
        "\n",
        "    # Iterate over batches of training edges (\"positive edges\")\n",
        "    # pos_samples is a Tensor of edges with dimension [batch_size, 2]\n",
        "    # (the last iteration may have fewer edges than batch_size)\n",
        "    for pos_samples in DataLoader(pos_train_edges, batch_size, shuffle=True):\n",
        "        optimizer.zero_grad()\n",
        "\n",
        "        # Run GraphSAGE forward pass\n",
        "        node_embeddings = graphsage_model(initial_node_embeddings, edge_index, edge_attr)\n",
        "\n",
        "        # Sample batch_size negative edges\n",
        "        # neg_samples is a Tensor with dimension [2, batch_size]\n",
        "        neg_samples = negative_sampling(edge_index, \n",
        "                                        num_nodes=initial_node_embeddings.size(0),\n",
        "                                        num_neg_samples=len(pos_samples),\n",
        "                                        method='dense')\n",
        "        \n",
        "        # Run link predictor forward pass on positive edge embeddings\n",
        "        pos_preds = link_predictor(node_embeddings[pos_samples[:, 0]], \n",
        "                                    node_embeddings[pos_samples[:, 1]])\n",
        "        \n",
        "        # Run link predictor forward pass on negative edge embeddings\n",
        "        neg_preds = link_predictor(node_embeddings[neg_samples[0]], \n",
        "                                    node_embeddings[neg_samples[1]])\n",
        "\n",
        "        preds = torch.concat((pos_preds, neg_preds))\n",
        "        labels = torch.concat((torch.ones_like(pos_preds), \n",
        "                                torch.zeros_like(neg_preds)))\n",
        "\n",
        "        loss = F.binary_cross_entropy(preds, labels)\n",
        "\n",
        "        loss.backward()\n",
        "        optimizer.step()\n",
        "\n",
        "        num_examples = len(pos_preds)\n",
        "        total_loss += loss.item() * num_examples\n",
        "        total_examples += num_examples\n",
        "    \n",
        "    return total_loss / total_examples"
      ]
    },
    {
      "cell_type": "markdown",
      "metadata": {
        "id": "ndAJ-dNvmSyD"
      },
      "source": [
        "As with the GraphSAGE parameters, by default we set the learning rate and batch size used by Hu et al. (2020) ([paper](https://arxiv.org/abs/2005.00687), [code](https://github.com/snap-stanford/ogb/tree/master/examples/linkproppred/ddi)). Larger batch size helps to train the model faster. Additionally, we only train for 50 epochs for quicker analysis. Feel free to adjust the parameters and play around. `eval_steps` is how often we evaluate our model against the validation and test sets."
      ]
    },
    {
      "cell_type": "code",
      "execution_count": null,
      "metadata": {
        "id": "g49fJVV1KAhT"
      },
      "outputs": [],
      "source": [
        "#@title Training Parameters\n",
        "lr = 0.005 #@param {type: 'number'}\n",
        "batch_size = 65536 #@param {type: 'number'}\n",
        "epochs = 50  #@param {type: 'number'}\n",
        "eval_steps = 5 #@param {type: 'number'}"
      ]
    },
    {
      "cell_type": "markdown",
      "metadata": {
        "id": "PfHDjlU8Efxy"
      },
      "source": [
        "Create an Adam optimizer with our model parameters and the learning rate:"
      ]
    },
    {
      "cell_type": "code",
      "execution_count": null,
      "metadata": {
        "id": "YYiSCRYvEjqh"
      },
      "outputs": [],
      "source": [
        "optimizer = torch.optim.Adam(list(graphsage_model.parameters()) + list(initial_node_embeddings.parameters()) + list(link_predictor.parameters()), lr=lr)"
      ]
    },
    {
      "cell_type": "markdown",
      "metadata": {
        "id": "hqhW6yUum5Yt"
      },
      "source": [
        "# Evaluation"
      ]
    },
    {
      "cell_type": "markdown",
      "metadata": {
        "id": "sFq8cCJynvdy"
      },
      "source": [
        "We evaluate our model on the validation and test positive and negative edges provided in the OGB dataset:"
      ]
    },
    {
      "cell_type": "code",
      "execution_count": null,
      "metadata": {
        "id": "ufW7U1EApvAy"
      },
      "outputs": [],
      "source": [
        "pos_valid_edges = valid_edges['edge'].to(device)\n",
        "neg_valid_edges = valid_edges['edge_neg'].to(device)\n",
        "pos_test_edges = test_edges['edge'].to(device)\n",
        "neg_test_edges = test_edges['edge_neg'].to(device)"
      ]
    },
    {
      "cell_type": "markdown",
      "metadata": {
        "id": "bg9HMMkeqiuC"
      },
      "source": [
        "The evaluation procedure is as follows:\n",
        "\n",
        "* Run the GraphSAGE GNN forward pass starting with the initial node embeddings and the `edge_index` to generate node embeddings. Note that `edge_index` only contains training edges.\n",
        "* For both the validation and test sets, for each positive and negative edge, run the forward pass of the link predictor to generate predictions.\n",
        "* Calculate **Hits@K** for the validation and test predictions.\n",
        "\n",
        "Hits@K is calculated by the `Evaluator` object that OGB provides to us for ogbl-ddi:"
      ]
    },
    {
      "cell_type": "code",
      "execution_count": null,
      "metadata": {
        "id": "DBgkDu7HtQ2d"
      },
      "outputs": [],
      "source": [
        "from ogb.linkproppred import Evaluator\n",
        "\n",
        "evaluator = Evaluator(name = dataset_name)"
      ]
    },
    {
      "cell_type": "markdown",
      "metadata": {
        "id": "yiHobKw8tTsY"
      },
      "source": [
        "Hits@K is equal to the ratio of positive edges that have a prediction value higher than the K-th highest value negative edge. So for example, if we are evaluating Hits@3 using the following values:"
      ]
    },
    {
      "cell_type": "code",
      "execution_count": null,
      "metadata": {
        "colab": {
          "base_uri": "https://localhost:8080/"
        },
        "id": "FP6WYrlltsfJ",
        "outputId": "3220dafa-4f38-49ed-e50d-f3ee4eb8a1ba"
      },
      "outputs": [
        {
          "output_type": "execute_result",
          "data": {
            "text/plain": [
              "{'hits@3': 0.75}"
            ]
          },
          "metadata": {},
          "execution_count": 20
        }
      ],
      "source": [
        "evaluator.K = 3\n",
        "evaluator.eval({'y_pred_pos': torch.tensor([0.95, 0.7, 0.6, 0.4]), 'y_pred_neg': torch.tensor([0.6, 0.5, 0.45, 0.2, 0.1])})"
      ]
    },
    {
      "cell_type": "markdown",
      "metadata": {
        "id": "hq00XqB5twOZ"
      },
      "source": [
        "The output is 3/4 because the 3rd highest negative prediction is 0.45, and 3 out of the 4 positive edges had predictions higher than it.\n",
        "\n",
        "Following OGB's recommendation, we evaluate our DDI model using Hits@20."
      ]
    },
    {
      "cell_type": "code",
      "execution_count": null,
      "metadata": {
        "id": "tPMgucOqCR0j"
      },
      "outputs": [],
      "source": [
        "@torch.no_grad()\n",
        "def test(graphsage_model, link_predictor, initial_node_embeddings, edge_index, pos_valid_edges, neg_valid_edges, pos_test_edges, neg_test_edges, batch_size, evaluator, edge_attr=None):\n",
        "    graphsage_model.eval()\n",
        "    link_predictor.eval()\n",
        "\n",
        "    # Run GraphSAGE forward pass\n",
        "    final_node_embeddings = graphsage_model(initial_node_embeddings, edge_index, edge_attr)\n",
        "\n",
        "    # Run link predictor forward pass on positive validation edge embeddings\n",
        "    pos_valid_preds = []\n",
        "    for pos_samples in DataLoader(pos_valid_edges, batch_size):\n",
        "        pos_preds = link_predictor(final_node_embeddings[pos_samples[:, 0]], \n",
        "                                    final_node_embeddings[pos_samples[:, 1]])\n",
        "        pos_valid_preds.append(pos_preds.squeeze())\n",
        "    pos_valid_pred = torch.cat(pos_valid_preds, dim=0)\n",
        "    \n",
        "    # Run link predictor forward pass on negative validation edge embeddings\n",
        "    neg_valid_preds = []\n",
        "    for neg_samples in DataLoader(neg_valid_edges, batch_size):\n",
        "        neg_preds = link_predictor(final_node_embeddings[neg_samples[:, 0]], \n",
        "                                    final_node_embeddings[neg_samples[:, 1]])\n",
        "        neg_valid_preds.append(neg_preds.squeeze())\n",
        "    neg_valid_pred = torch.cat(neg_valid_preds, dim=0)\n",
        "\n",
        "    # Run link predictor forward pass on positive test edge embeddings\n",
        "    pos_test_preds = []\n",
        "    for pos_samples in DataLoader(pos_test_edges, batch_size):\n",
        "        pos_preds = link_predictor(final_node_embeddings[pos_samples[:, 0]], \n",
        "                                    final_node_embeddings[pos_samples[:, 1]])\n",
        "        pos_test_preds.append(pos_preds.squeeze())\n",
        "    pos_test_pred = torch.cat(pos_test_preds, dim=0)\n",
        "    \n",
        "    # Run link predictor forward pass on negative test edge embeddings\n",
        "    neg_test_preds = []\n",
        "    for neg_samples in DataLoader(neg_test_edges, batch_size):\n",
        "        neg_preds = link_predictor(final_node_embeddings[neg_samples[:, 0]], \n",
        "                                    final_node_embeddings[neg_samples[:, 1]])\n",
        "        neg_test_preds.append(neg_preds.squeeze())\n",
        "    neg_test_pred = torch.cat(neg_test_preds, dim=0)\n",
        "\n",
        "    # Calculate Hits@20\n",
        "    evaluator.K = 20\n",
        "    valid_hits = evaluator.eval({'y_pred_pos': pos_valid_pred, 'y_pred_neg': neg_valid_pred})\n",
        "    test_hits = evaluator.eval({'y_pred_pos': pos_test_pred, 'y_pred_neg': neg_test_pred})\n",
        "\n",
        "    return valid_hits, test_hits"
      ]
    },
    {
      "cell_type": "markdown",
      "metadata": {
        "id": "Gsis7IPsb7iv"
      },
      "source": [
        "We are ready to run the training and evaluation. The following cell takes about 12 minutes to run with the default parameters. At the end, a plot will be shown that shows how the training loss, validation Hits@20, and test Hits@20 progressed over the epochs."
      ]
    },
    {
      "cell_type": "code",
      "execution_count": null,
      "metadata": {
        "colab": {
          "base_uri": "https://localhost:8080/",
          "height": 660
        },
        "id": "o6_IAoMMQdRU",
        "outputId": "c37f83fb-f8ad-43fd-deb6-5b302cab1a4c"
      },
      "outputs": [
        {
          "output_type": "stream",
          "name": "stderr",
          "text": [
            "Loss 0.3300:  10%|█         | 5/50 [01:13<11:13, 14.97s/it]"
          ]
        },
        {
          "output_type": "stream",
          "name": "stdout",
          "text": [
            "\n",
            "Epoch: 5, Validation Hits@20: 0.0587, Test Hits@20: 0.0762\n"
          ]
        },
        {
          "output_type": "stream",
          "name": "stderr",
          "text": [
            "Loss 0.2420:  20%|██        | 10/50 [02:27<10:00, 15.02s/it]"
          ]
        },
        {
          "output_type": "stream",
          "name": "stdout",
          "text": [
            "\n",
            "Epoch: 10, Validation Hits@20: 0.1595, Test Hits@20: 0.1104\n"
          ]
        },
        {
          "output_type": "stream",
          "name": "stderr",
          "text": [
            "Loss 0.1949:  30%|███       | 15/50 [03:41<08:45, 15.02s/it]"
          ]
        },
        {
          "output_type": "stream",
          "name": "stdout",
          "text": [
            "\n",
            "Epoch: 15, Validation Hits@20: 0.2180, Test Hits@20: 0.1196\n"
          ]
        },
        {
          "output_type": "stream",
          "name": "stderr",
          "text": [
            "Loss 0.1670:  40%|████      | 20/50 [04:54<07:30, 15.00s/it]"
          ]
        },
        {
          "output_type": "stream",
          "name": "stdout",
          "text": [
            "\n",
            "Epoch: 20, Validation Hits@20: 0.3005, Test Hits@20: 0.1912\n"
          ]
        },
        {
          "output_type": "stream",
          "name": "stderr",
          "text": [
            "Loss 0.1465:  50%|█████     | 25/50 [06:08<06:16, 15.05s/it]"
          ]
        },
        {
          "output_type": "stream",
          "name": "stdout",
          "text": [
            "\n",
            "Epoch: 25, Validation Hits@20: 0.3854, Test Hits@20: 0.2424\n"
          ]
        },
        {
          "output_type": "stream",
          "name": "stderr",
          "text": [
            "Loss 0.1306:  60%|██████    | 30/50 [07:22<05:01, 15.06s/it]"
          ]
        },
        {
          "output_type": "stream",
          "name": "stdout",
          "text": [
            "\n",
            "Epoch: 30, Validation Hits@20: 0.4288, Test Hits@20: 0.2869\n"
          ]
        },
        {
          "output_type": "stream",
          "name": "stderr",
          "text": [
            "Loss 0.1216:  70%|███████   | 35/50 [08:36<03:45, 15.02s/it]"
          ]
        },
        {
          "output_type": "stream",
          "name": "stdout",
          "text": [
            "\n",
            "Epoch: 35, Validation Hits@20: 0.4392, Test Hits@20: 0.3719\n"
          ]
        },
        {
          "output_type": "stream",
          "name": "stderr",
          "text": [
            "Loss 0.1151:  80%|████████  | 40/50 [09:50<02:30, 15.01s/it]"
          ]
        },
        {
          "output_type": "stream",
          "name": "stdout",
          "text": [
            "\n",
            "Epoch: 40, Validation Hits@20: 0.4802, Test Hits@20: 0.2897\n"
          ]
        },
        {
          "output_type": "stream",
          "name": "stderr",
          "text": [
            "Loss 0.1109:  90%|█████████ | 45/50 [11:04<01:15, 15.17s/it]"
          ]
        },
        {
          "output_type": "stream",
          "name": "stdout",
          "text": [
            "\n",
            "Epoch: 45, Validation Hits@20: 0.4808, Test Hits@20: 0.2418\n"
          ]
        },
        {
          "output_type": "stream",
          "name": "stderr",
          "text": [
            "Loss 0.1055: 100%|██████████| 50/50 [12:18<00:00, 14.78s/it]"
          ]
        },
        {
          "output_type": "stream",
          "name": "stdout",
          "text": [
            "\n",
            "Epoch: 50, Validation Hits@20: 0.5015, Test Hits@20: 0.3067\n"
          ]
        },
        {
          "output_type": "stream",
          "name": "stderr",
          "text": [
            "\n"
          ]
        },
        {
          "output_type": "display_data",
          "data": {
            "image/png": "[encoded data removed]",
            "text/plain": [
              "<Figure size 432x288 with 1 Axes>"
            ]
          },
          "metadata": {
            "needs_background": "light"
          }
        }
      ],
      "source": [
        "import matplotlib.pyplot as plt\n",
        "\n",
        "epochs_bar = trange(1, epochs + 1, desc='Loss n/a')\n",
        "\n",
        "edge_index = ddi_graph.edge_index.to(device)\n",
        "pos_train_edges = train_edges['edge'].to(device)\n",
        "\n",
        "losses = []\n",
        "valid_hits_list = []\n",
        "test_hits_list = []\n",
        "for epoch in epochs_bar:\n",
        "    loss = train(graphsage_model, link_predictor, initial_node_embeddings.weight, edge_index, pos_train_edges, optimizer, batch_size)\n",
        "    losses.append(loss)\n",
        "\n",
        "    epochs_bar.set_description(f'Loss {loss:0.4f}')\n",
        "\n",
        "    if epoch % eval_steps == 0:\n",
        "        valid_hits, test_hits = test(graphsage_model, link_predictor, initial_node_embeddings.weight, edge_index, pos_valid_edges, neg_valid_edges, pos_test_edges, neg_test_edges, batch_size, evaluator)\n",
        "        print()\n",
        "        print(f'Epoch: {epoch}, Validation Hits@20: {valid_hits[\"hits@20\"]:0.4f}, Test Hits@20: {test_hits[\"hits@20\"]:0.4f}')\n",
        "        valid_hits_list.append(valid_hits['hits@20'])\n",
        "        test_hits_list.append(test_hits['hits@20'])\n",
        "    else:\n",
        "        valid_hits_list.append(valid_hits_list[-1] if valid_hits_list else 0)\n",
        "        test_hits_list.append(test_hits_list[-1] if test_hits_list else 0)\n",
        "\n",
        "plt.title(dataset.name + \": GraphSAGE\")\n",
        "plt.xlabel(\"Epoch\")\n",
        "plt.plot(losses, label=\"Training loss\")\n",
        "plt.plot(valid_hits_list, label=\"Validation Hits@20\")\n",
        "plt.plot(test_hits_list, label=\"Test Hits@20\")\n",
        "plt.legend()\n",
        "plt.show()"
      ]
    },
    {
      "cell_type": "markdown",
      "metadata": {
        "id": "Q1pnOCDZkhT9"
      },
      "source": [
        "Our model performed well! \n",
        "There is some randomness in initial embeddings and the data loader. In our run, our final Validation Hits@20 is 0.50, and Test Hits@20 is 0.40. Further improvements that could be made include:\n",
        "* Training for longer (we set a small number of epochs by default to reduce the time spent waiting for results)\n",
        "* Exploring gradient clipping, weight initialization distributions, and whether normalization of node embeddings helps in the `SAGEConv` layer. Some of these are explored in Hu et al. (2020) ([paper](https://arxiv.org/abs/2005.00687), [code](https://github.com/snap-stanford/ogb/tree/master/examples/linkproppred/ddi)) to obtain strong results.\n",
        "\n",
        "We will move on though to showing how we can modify the GraphSAGE operator to include other graph attributes that gives our model more information to learn from."
      ]
    },
    {
      "cell_type": "markdown",
      "metadata": {
        "id": "ZUab_S1jBl7j"
      },
      "source": [
        "# Defining A Custom GraphSAGE Operator\n",
        "\n",
        "The DDI graph given to us didn't have any node or edge features, but we can augment the data we input into the model by calculating our own metrics. The paper that is currently at the top of the OGB DDI leaderboard by Yang and Lu (2021) ([paper](https://github.com/lustoo/OGB_link_prediction/blob/main/Link%20prediction%20with%20structural%20information.pdf), [code](https://github.com/lustoo/OGB_link_prediction)) makes a modification to the standard GraphSAGE operator from Equation (2) [4]. They define an **edge attribute** (a value associated with every edge) that for every edge, calculates the average distance between the two nodes and a set of **anchor nodes** sampled from the graph. We will implement a scaled-down version of the author's approach here (due to Colab GPU's default memory and runtime restrictions) to demonstrate how it is possible to define your own graph convolutional layers in PyG.   \n"
      ]
    },
    {
      "cell_type": "markdown",
      "metadata": {
        "id": "CjWi6qaptmpQ"
      },
      "source": [
        "For every edge $(u, v)$, we calculate the average distance to the set of anchor nodes. Let the set of anchor nodes be $V_A \\in V$. We can define this distance as follows:\n",
        "$$\\text{anchor_d}_{u, v} = \\frac{1}{|V_A|}\\sum_{v_a \\in V_A} d_{u, v_a} + d_{v, v_a}$$\n",
        "where $d_{u, v}$ is the shortest path between $u$ and $v$."
      ]
    },
    {
      "cell_type": "markdown",
      "metadata": {
        "id": "4YzJkPOGuxkl"
      },
      "source": [
        "The [NetworkX library](https://networkx.org/documentation/stable/index.html) defines functions that calculate shortest paths in networks. We use the PyG utility function to convert `ddi_graph` to a NetworkX undirected graph. "
      ]
    },
    {
      "cell_type": "code",
      "execution_count": null,
      "metadata": {
        "id": "RcfM0KfzNJt_",
        "colab": {
          "base_uri": "https://localhost:8080/"
        },
        "outputId": "123d6e7b-7204-4220-81b4-6c078aa4395d"
      },
      "outputs": [
        {
          "output_type": "stream",
          "name": "stderr",
          "text": [
            "/usr/local/lib/python3.7/dist-packages/torch_geometric/data/storage.py:264: UserWarning: Unable to accurately infer 'num_nodes' from the attribute set '{'edge_index'}'. Please explicitly set 'num_nodes' as an attribute of 'data' to suppress this warning\n",
            "  \" to suppress this warning\")\n"
          ]
        }
      ],
      "source": [
        "from torch_geometric.utils import to_networkx\n",
        "\n",
        "nx_ddi_graph = to_networkx(ddi_graph, to_undirected=True)"
      ]
    },
    {
      "cell_type": "markdown",
      "metadata": {
        "id": "XQWyl18cxQEB"
      },
      "source": [
        "We start with a default of 200 anchor nodes that we will sample from `nx_ddi_graph`, but we also make this configurable, so feel free to try other values."
      ]
    },
    {
      "cell_type": "code",
      "execution_count": null,
      "metadata": {
        "id": "jD3fqRm8xLVf"
      },
      "outputs": [],
      "source": [
        "#@title Anchor nodes parameters\n",
        "num_anchor_nodes = 200 #@param {type: 'number'}"
      ]
    },
    {
      "cell_type": "markdown",
      "metadata": {
        "id": "lYgVdFfTxdfP"
      },
      "source": [
        "We now calculate the shortest paths from every anchor node to every other node using NetworkX's `single_source_shortest_path_length` function.\n",
        "\n",
        "We follow the Yang and Lu (2021) ([paper](https://github.com/lustoo/OGB_link_prediction/blob/main/Link%20prediction%20with%20structural%20information.pdf), [code](https://github.com/lustoo/OGB_link_prediction)) method of limiting the maximum shortest path length to 5.\n",
        "This cell takes around 1 minute to complete."
      ]
    },
    {
      "cell_type": "code",
      "execution_count": null,
      "metadata": {
        "id": "w9dAMvpCewGU",
        "colab": {
          "base_uri": "https://localhost:8080/"
        },
        "outputId": "38bdb18d-dc69-4281-f52a-b10ac1fedb3b"
      },
      "outputs": [
        {
          "output_type": "stream",
          "name": "stdout",
          "text": [
            "Shortest paths for node 0 to every anchor node: tensor([2., 2., 3., 3., 2., 2., 2., 3., 1., 2., 2., 2., 3., 2., 2., 2., 1., 1.,\n",
            "        2., 2., 2., 2., 2., 2., 2., 3., 2., 2., 2., 2., 2., 2., 2., 2., 2., 1.,\n",
            "        2., 3., 2., 2., 2., 2., 2., 2., 2., 2., 2., 2., 3., 1., 3., 1., 2., 2.,\n",
            "        2., 3., 3., 2., 2., 2., 2., 2., 2., 2., 2., 2., 2., 1., 2., 2., 3., 2.,\n",
            "        1., 3., 2., 2., 2., 1., 1., 2., 2., 2., 2., 2., 2., 2., 2., 2., 3., 2.,\n",
            "        2., 2., 1., 2., 2., 2., 2., 2., 2., 2., 2., 3., 2., 2., 2., 2., 2., 2.,\n",
            "        2., 2., 2., 3., 2., 2., 2., 2., 2., 2., 2., 2., 2., 2., 2., 2., 3., 2.,\n",
            "        2., 2., 2., 2., 2., 2., 3., 2., 1., 2., 1., 2., 2., 2., 2., 3., 2., 3.,\n",
            "        2., 2., 1., 1., 2., 2., 1., 3., 2., 2., 2., 2., 2., 3., 3., 2., 2., 2.,\n",
            "        2., 2., 2., 2., 2., 2., 3., 2., 1., 2., 3., 2., 1., 2., 2., 2., 1., 2.,\n",
            "        2., 2., 1., 3., 2., 2., 2., 3., 2., 3., 2., 2., 2., 1., 2., 2., 2., 2.,\n",
            "        2., 2.])\n"
          ]
        }
      ],
      "source": [
        "import numpy as np\n",
        "import networkx as nx\n",
        "\n",
        "# Sample anchor nodes\n",
        "anchor_nodes = np.random.choice(nx_ddi_graph.number_of_nodes(), size=num_anchor_nodes, replace=False)\n",
        "\n",
        "# This tensor with shape [|V|, |V_A|] will hold our computed shortest path distances\n",
        "shortest_paths_to_anchor_nodes = torch.zeros(nx_ddi_graph.number_of_nodes(), num_anchor_nodes)\n",
        "for anchor_index, anchor_node in enumerate(anchor_nodes):\n",
        "    for dst, path_length in nx.single_source_shortest_path_length(nx_ddi_graph, source=anchor_node, cutoff=5).items():\n",
        "        shortest_paths_to_anchor_nodes[dst, anchor_index] = path_length\n",
        "\n",
        "print(f'Shortest paths for node 0 to every anchor node: {shortest_paths_to_anchor_nodes[0]}')"
      ]
    },
    {
      "cell_type": "markdown",
      "metadata": {
        "id": "Gx8oUouAy1ai"
      },
      "source": [
        "Now for every edge, we add together $d_{u, v_a}$ and $d_{v, v_a}$ for every anchor node $v_a \\in V_A$, and then take the average of these summed distances. We further follow the Yang and Lu (2021) ([paper](https://github.com/lustoo/OGB_link_prediction/blob/main/Link%20prediction%20with%20structural%20information.pdf), [code](https://github.com/lustoo/OGB_link_prediction)) approach of normalizing the computed anchor distances to the range $[0, 1]$. The result is a tensor of shape $[|E|, 1]$."
      ]
    },
    {
      "cell_type": "code",
      "execution_count": null,
      "metadata": {
        "id": "_rgt-avnaX71"
      },
      "outputs": [],
      "source": [
        "# shortest_paths_to_anchor_nodes[ddi_graph.edge_index, :] creates a tensor of shape [2, |E|, |V_A|]\n",
        "# The tensor at position 0 along dimension 0 contains the anchor node distances for the source node,\n",
        "# and the tensor at position 1 contains the anchor node distances for the destination node\n",
        "edge_attr = shortest_paths_to_anchor_nodes[ddi_graph.edge_index, :].sum(dim=0).mean(dim=1, keepdim=True).to(device)\n",
        "# Normalize to range [0, 1]\n",
        "max_attr = torch.max(edge_attr)\n",
        "min_attr = torch.min(edge_attr)\n",
        "edge_attr = (edge_attr - min_attr) / (max_attr - min_attr + 1e-15)"
      ]
    },
    {
      "cell_type": "markdown",
      "metadata": {
        "id": "JaBas81m6n_2"
      },
      "source": [
        "Now that we have our edge attributes tensor, we want to incorporate it into the GraphSAGE convolution operator to take advantage of it. Recall Equation (2) for the standard GraphSAGE layer:\n",
        "\n",
        "$$h_v^{(l + 1)} = W_1 \\cdot h_v^{(l)} + W_2 \\cdot \\text{mean}(\\{h_u^{(l)}, \\forall u \\in N(v)\\})$$\n",
        "\n",
        "Yang and Lu (2021) ([paper](https://github.com/lustoo/OGB_link_prediction/blob/main/Link%20prediction%20with%20structural%20information.pdf), [code](https://github.com/lustoo/OGB_link_prediction)) modify the message passed by each neighbor $u$ along the edge $(u, v)$ to include the edge attribute value, scaled by a learnable weight matrix and passed through a nonlinearity:\n",
        "\n",
        "$$h_v^{(l + 1)} = W_1 \\cdot h_v^{(l)} + W_2 \\cdot \\text{mean}(\\{\\text{ReLU}(h_u^{(l)} + W_3 \\cdot \\text{edge_attr}_{u, v}), \\forall u \\in N(v)\\})$$\n",
        "$$\\text{Equation } (3)$$\n",
        "\n",
        "The message function has become $m_{u \\rightarrow v}^{(l + 1)} = h_u^{(l)} + W_3 \\cdot \\text{edge_attr}_{u, v}$.\n",
        "To implement this, we need to define our own custom version of PyG's `SAGEConv`, since this doesn't have the edge attribute aspect.\n",
        "\n",
        "PyG provides `torch_geometric.nn.conv.MessagePassing` as the base class that we can extend to define our own operator. The advantage of this is that `MessagePassing` takes care of propagating messages throughout the network for us, we just have to define what the message is, and how to aggregate and update embeddings.\n",
        "\n",
        "PyG provides [full documentation and examples](https://pytorch-geometric.readthedocs.io/en/latest/notes/create_gnn.html) for this process of defining custom layers."
      ]
    },
    {
      "cell_type": "markdown",
      "metadata": {
        "id": "spn-lfIRBRRU"
      },
      "source": [
        "Due to Colab GPU memory limits, we reduce the size of our parameters:"
      ]
    },
    {
      "cell_type": "code",
      "execution_count": null,
      "metadata": {
        "id": "NxvpV6zeIBv2"
      },
      "outputs": [],
      "source": [
        "graphsage_in_channels = 128\n",
        "graphsage_hidden_channels = graphsage_in_channels\n",
        "graphsage_out_channels = graphsage_hidden_channels\n",
        "link_predictor_in_channels = graphsage_out_channels\n",
        "link_predictor_hidden_channels = link_predictor_in_channels\n",
        "edge_attr_out_channels = graphsage_hidden_channels"
      ]
    },
    {
      "cell_type": "markdown",
      "metadata": {
        "id": "VWHpadpjICBy"
      },
      "source": [
        "We define `SAGEConvWithEdgeAttr` to implement Equation (3). "
      ]
    },
    {
      "cell_type": "code",
      "execution_count": null,
      "metadata": {
        "id": "Q6t11IVyhbws"
      },
      "outputs": [],
      "source": [
        "from torch_geometric.nn.conv import MessagePassing\n",
        "\n",
        "class SAGEConvWithEdgeAttr(MessagePassing):\n",
        "    \"\"\"Custom GraphSAGE operator that includes edge attributes.\"\"\"\n",
        "    def __init__(self, in_channels, out_channels, aggr='mean',\n",
        "                comb=lambda x, y: x + y, normalize=True, **kwargs):\n",
        "        super(SAGEConvWithEdgeAttr, self).__init__(aggr=aggr)\n",
        "\n",
        "        # W_1 in Equation (3)\n",
        "        self.w_self_embedding = torch.nn.Linear(in_channels, out_channels)\n",
        "        # W_2 in Equation (3)\n",
        "        self.w_aggregation = torch.nn.Linear(in_channels, out_channels)\n",
        "        # W_3 in Equation (3)\n",
        "        self.w_edge_attr = torch.nn.Linear(1, edge_attr_out_channels)\n",
        "\n",
        "        self.comb = comb\n",
        "        self.normalize = normalize\n",
        "\n",
        "    def forward(self, x, edge_index, edge_attr, size=None):\n",
        "\n",
        "        # Starts propagating messages through the network\n",
        "        # Passing edge_attr here makes it available in the message() function\n",
        "        # The second argument to propagate is x = (x_i, x_j), where x_i is features\n",
        "        # of the source nodes and x_j is features of the destination nodes (Recall\n",
        "        # that both (i, j) and (j, i) are in edge_index). We don't distinguish\n",
        "        # between source and destination nodes in this graph, so we just pass x=(x,x)\n",
        "        aggregations = self.propagate(edge_index, x=(x, x), edge_attr=edge_attr, \n",
        "                                        size=size)\n",
        "        out = self.w_self_embedding(x) + self.w_aggregation(aggregations)\n",
        "\n",
        "        if self.normalize:\n",
        "            out = F.normalize(out)\n",
        "\n",
        "        return out\n",
        "\n",
        "    def message(self, x_j, edge_attr):\n",
        "        \"\"\"Define our custom message.\"\"\"\n",
        "        # We are given x_j here because we are essentially defining what message\n",
        "        # the destination (x_j) should pass to the source (x_i). The actual passing\n",
        "        # is handled by PyG.\n",
        "        return F.relu(self.comb(x_j, self.w_edge_attr(edge_attr)))"
      ]
    },
    {
      "cell_type": "markdown",
      "metadata": {
        "id": "zBJ7NJXiMG02"
      },
      "source": [
        "We are ready to set up a model that uses our new operator. Since we now have edge attributes, the `forward_with_edge_attr` function will be used in our `GraphSAGE` class."
      ]
    },
    {
      "cell_type": "code",
      "execution_count": null,
      "metadata": {
        "id": "oo1Ohz0ImPEk",
        "colab": {
          "base_uri": "https://localhost:8080/"
        },
        "outputId": "0262e41b-27e6-42e5-980f-daba0ec01324"
      },
      "outputs": [
        {
          "output_type": "stream",
          "name": "stderr",
          "text": [
            "/usr/local/lib/python3.7/dist-packages/torch_geometric/data/storage.py:264: UserWarning: Unable to accurately infer 'num_nodes' from the attribute set '{'edge_index'}'. Please explicitly set 'num_nodes' as an attribute of 'data' to suppress this warning\n",
            "  \" to suppress this warning\")\n"
          ]
        }
      ],
      "source": [
        "initial_node_embeddings = torch.nn.Embedding(ddi_graph.num_nodes, graphsage_in_channels).to(device)\n",
        "graphsage_model = GraphSAGE(SAGEConvWithEdgeAttr, graphsage_in_channels, \n",
        "                                 graphsage_hidden_channels,\n",
        "                                 graphsage_out_channels,\n",
        "                                 graphsage_num_layers, \n",
        "                                 dropout).to(device)\n",
        "link_predictor = LinkPredictor(link_predictor_in_channels, link_predictor_hidden_channels, dropout).to(device)                                "
      ]
    },
    {
      "cell_type": "code",
      "execution_count": null,
      "metadata": {
        "id": "QTXikwETMnef"
      },
      "outputs": [],
      "source": [
        "optimizer = torch.optim.Adam(list(initial_node_embeddings.parameters()) + list(graphsage_model.parameters()) + list(link_predictor.parameters()), lr=lr)"
      ]
    },
    {
      "cell_type": "markdown",
      "metadata": {
        "id": "dhBojFvcfgUl"
      },
      "source": [
        "Run training and evaluation. The following cell takes around 15 minutes to run."
      ]
    },
    {
      "cell_type": "code",
      "execution_count": null,
      "metadata": {
        "id": "bAcM1PlLK34q",
        "colab": {
          "base_uri": "https://localhost:8080/",
          "height": 660
        },
        "outputId": "0930f683-0521-4a39-f53e-845173e7b8ee"
      },
      "outputs": [
        {
          "output_type": "stream",
          "name": "stderr",
          "text": [
            "Loss 0.3724:  10%|█         | 5/50 [01:23<13:03, 17.41s/it]"
          ]
        },
        {
          "output_type": "stream",
          "name": "stdout",
          "text": [
            "\n",
            "Epoch: 5, Validation Hits@20: 0.0205, Test Hits@20: 0.0347\n"
          ]
        },
        {
          "output_type": "stream",
          "name": "stderr",
          "text": [
            "Loss 0.2990:  20%|██        | 10/50 [02:49<11:39, 17.50s/it]"
          ]
        },
        {
          "output_type": "stream",
          "name": "stdout",
          "text": [
            "\n",
            "Epoch: 10, Validation Hits@20: 0.1720, Test Hits@20: 0.0971\n"
          ]
        },
        {
          "output_type": "stream",
          "name": "stderr",
          "text": [
            "Loss 0.2562:  30%|███       | 15/50 [04:14<10:13, 17.51s/it]"
          ]
        },
        {
          "output_type": "stream",
          "name": "stdout",
          "text": [
            "\n",
            "Epoch: 15, Validation Hits@20: 0.1861, Test Hits@20: 0.1103\n"
          ]
        },
        {
          "output_type": "stream",
          "name": "stderr",
          "text": [
            "Loss 0.2370:  40%|████      | 20/50 [05:40<08:46, 17.55s/it]"
          ]
        },
        {
          "output_type": "stream",
          "name": "stdout",
          "text": [
            "\n",
            "Epoch: 20, Validation Hits@20: 0.1381, Test Hits@20: 0.1236\n"
          ]
        },
        {
          "output_type": "stream",
          "name": "stderr",
          "text": [
            "Loss 0.2253:  50%|█████     | 25/50 [07:06<07:22, 17.69s/it]"
          ]
        },
        {
          "output_type": "stream",
          "name": "stdout",
          "text": [
            "\n",
            "Epoch: 25, Validation Hits@20: 0.1993, Test Hits@20: 0.1248\n"
          ]
        },
        {
          "output_type": "stream",
          "name": "stderr",
          "text": [
            "Loss 0.2116:  60%|██████    | 30/50 [08:34<05:55, 17.78s/it]"
          ]
        },
        {
          "output_type": "stream",
          "name": "stdout",
          "text": [
            "\n",
            "Epoch: 30, Validation Hits@20: 0.1949, Test Hits@20: 0.1391\n"
          ]
        },
        {
          "output_type": "stream",
          "name": "stderr",
          "text": [
            "Loss 0.2036:  70%|███████   | 35/50 [10:00<04:25, 17.70s/it]"
          ]
        },
        {
          "output_type": "stream",
          "name": "stdout",
          "text": [
            "\n",
            "Epoch: 35, Validation Hits@20: 0.1428, Test Hits@20: 0.1078\n"
          ]
        },
        {
          "output_type": "stream",
          "name": "stderr",
          "text": [
            "Loss 0.1981:  80%|████████  | 40/50 [11:27<02:57, 17.73s/it]"
          ]
        },
        {
          "output_type": "stream",
          "name": "stdout",
          "text": [
            "\n",
            "Epoch: 40, Validation Hits@20: 0.2002, Test Hits@20: 0.1590\n"
          ]
        },
        {
          "output_type": "stream",
          "name": "stderr",
          "text": [
            "Loss 0.1919:  90%|█████████ | 45/50 [12:53<01:29, 17.81s/it]"
          ]
        },
        {
          "output_type": "stream",
          "name": "stdout",
          "text": [
            "\n",
            "Epoch: 45, Validation Hits@20: 0.1992, Test Hits@20: 0.1538\n"
          ]
        },
        {
          "output_type": "stream",
          "name": "stderr",
          "text": [
            "Loss 0.1891: 100%|██████████| 50/50 [14:20<00:00, 17.21s/it]"
          ]
        },
        {
          "output_type": "stream",
          "name": "stdout",
          "text": [
            "\n",
            "Epoch: 50, Validation Hits@20: 0.1918, Test Hits@20: 0.1175\n"
          ]
        },
        {
          "output_type": "stream",
          "name": "stderr",
          "text": [
            "\n"
          ]
        },
        {
          "output_type": "display_data",
          "data": {
            "image/png": "[encoded data removed]",
            "text/plain": [
              "<Figure size 432x288 with 1 Axes>"
            ]
          },
          "metadata": {
            "needs_background": "light"
          }
        }
      ],
      "source": [
        "epochs_bar = trange(1, epochs + 1, desc='Loss n/a')\n",
        "\n",
        "losses = []\n",
        "valid_hits_list = []\n",
        "test_hits_list = []\n",
        "for epoch in epochs_bar:\n",
        "    loss = train(graphsage_model, link_predictor, initial_node_embeddings.weight, edge_index, pos_train_edges, optimizer, batch_size, edge_attr)\n",
        "    losses.append(loss)\n",
        "\n",
        "    epochs_bar.set_description(f'Loss {loss:0.4f}')\n",
        "\n",
        "    if epoch % eval_steps == 0:\n",
        "        valid_hits, test_hits = test(graphsage_model, link_predictor, initial_node_embeddings.weight, edge_index, pos_valid_edges, neg_valid_edges, pos_test_edges, neg_test_edges, batch_size, evaluator, edge_attr)\n",
        "        print()\n",
        "        print(f'Epoch: {epoch}, Validation Hits@20: {valid_hits[\"hits@20\"]:0.4f}, Test Hits@20: {test_hits[\"hits@20\"]:0.4f}')\n",
        "        valid_hits_list.append(valid_hits['hits@20'])\n",
        "        test_hits_list.append(test_hits['hits@20'])\n",
        "    else:\n",
        "        valid_hits_list.append(valid_hits_list[-1] if valid_hits_list else 0)\n",
        "        test_hits_list.append(test_hits_list[-1] if test_hits_list else 0)\n",
        "\n",
        "plt.title(dataset.name + \": GraphSAGE with edge attributes\")\n",
        "plt.xlabel(\"Epoch\")\n",
        "plt.plot(losses, label=\"Training loss\")\n",
        "plt.plot(valid_hits_list, label=\"Validation Hits@20\")\n",
        "plt.plot(test_hits_list, label=\"Test Hits@20\")\n",
        "plt.legend()\n",
        "plt.show()"
      ]
    },
    {
      "cell_type": "markdown",
      "metadata": {
        "id": "IIvgsHb5es4E"
      },
      "source": [
        "Your results will vary. In our run, our final results are Validation Hits@20 is 0.29  and Test Hits@20 is 0.17. To be able to fit in Colab time resource restraints, we had to reduce the number of parameters in our model and train for a shorter duration while trying to learn another weight matrix, which could explain why this model didn't perform as well as the standard GraphSAGE did after 50 epochs. Nevertheless, we have successfully defined a custom GNN layer that demonstrates how we can utilize other graph properties to help with our machine learning task."
      ]
    },
    {
      "cell_type": "markdown",
      "metadata": {
        "id": "opSLKCskhoRB"
      },
      "source": [
        "# Summary\n",
        "\n",
        "Congratulations on completing the Colab! We have learned a lot:\n",
        "\n",
        "* First we learned how to load data from OGB\n",
        "* We utilized PyG's `SAGEConv` operator to build a GraphSAGE GNN and combined it with a neural network for link prediction\n",
        "* We then defined our own version of a GraphSAGE layer where we added edge attributes to the model\n",
        "\n",
        "We encourage you to explore the papers referred to in this Colab, and to take a look at other OGB datasets and graph learning tasks. There is a wide variety of problems that can be solved with Graph Neural Networks!"
      ]
    },
    {
      "cell_type": "markdown",
      "source": [
        "# References\n",
        "[1] \"Link Property Prediction.\" Open Graph Benchmark, https://ogb.stanford.edu/docs/linkprop/#ogbl-ddi\n",
        "\n",
        "[2] Hamilton, William L., et al. \"Inductive Representation Learning on Large Graphs.\" ArXiv.org, 10 Sept. 2018, https://arxiv.org/abs/1706.02216\n",
        "\n",
        "[3] Hu, Weihua, et al. \"Open Graph Benchmark: Datasets for Machine Learning on Graphs.\" ArXiv.org, 2 May 2020, https://arxiv.org/abs/2005.00687\n",
        "\n",
        "[4] Lu, Shitao, and Yang, Jing. \"Link Prediction With Structural Information.\" https://github.com/lustoo/OGB_link_prediction/blob/main/Link%20prediction%20with%20structural%20information.pdf"
      ],
      "metadata": {
        "id": "2KQGL17EQEaC"
      }
    }
  ],
  "metadata": {
    "accelerator": "GPU",
    "colab": {
      "collapsed_sections": [],
      "name": "Predicting Drug-Drug Interactions using Graph Neural Networks",
      "provenance": [],
      "include_colab_link": true
    },
    "kernelspec": {
      "display_name": "Python 3",
      "name": "python3"
    },
    "language_info": {
      "name": "python"
    }
  },
  "nbformat": 4,
  "nbformat_minor": 0
}