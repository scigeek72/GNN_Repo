{
  "nbformat": 4,
  "nbformat_minor": 0,
  "metadata": {
    "colab": {
      "name": "practice_3_GNN_graphsage_with_edge_attr.ipynb",
      "private_outputs": true,
      "provenance": [],
      "authorship_tag": "ABX9TyN9UsUY6NWmV5I6U+Hcm+2X",
      "include_colab_link": true
    },
    "kernelspec": {
      "name": "python3",
      "display_name": "Python 3"
    },
    "language_info": {
      "name": "python"
    },
    "accelerator": "GPU",
    "gpuClass": "standard"
  },
  "cells": [
    {
      "cell_type": "markdown",
      "metadata": {
        "id": "view-in-github",
        "colab_type": "text"
      },
      "source": [
        "<a href=\"https://colab.research.google.com/github/scigeek72/GNN_Repo/blob/main/practice_3_GNN_graphsage_with_edge_attr.ipynb\" target=\"_parent\"><img src=\"https://colab.research.google.com/assets/colab-badge.svg\" alt=\"Open In Colab\"/></a>"
      ]
    },
    {
      "cell_type": "markdown",
      "source": [
        "This is the 2nd notebook, following practice_2_GNN_graphsage_no_edge_attr.ipynb (see my GNN_repo). This is also a practice notebook done on Colab. \n",
        "\n",
        "This is also a practice notebook where I will implement (again copying from another notebook), modified GraphSage that includes `edge_attr` as edge weights i,e 1 dimensional attributes. So the size of the `edge_attr` tensor will be $[|E|, 1]$, where $E$ is the number of edges for the graph  $G= (V,E)$.\n",
        "\n",
        "In the next practice notebook, I will extend this idea into multi-dimensional `edge_attr` such that the size of the `edge_attr` tensor will be $[|E|,D]$ where $D > 1$.\n",
        "\n",
        "Below, I will note make any comments that I have already mentioned in the practice_2_GNN_graphsage_no_edge_attr.ipynb notebook. For reference, look at that notebook. "
      ],
      "metadata": {
        "id": "8h6_EY6Wdpwg"
      }
    },
    {
      "cell_type": "code",
      "source": [
        "# Install torch gemoetric (Takes time, each time it is done)\n",
        "!pip install torch-scatter -f https://data.pyg.org/wh1/torch-1.11.0+cu113.html\n",
        "!pip install torch-sparse -f https://data.pyg.org/wh1/torch-1.11.0+cu113.html\n",
        "!pip install torch_gemoetric\n",
        "!pip install -q git+https://github.com/snap-stanford/deepsnap.git\n",
        "!pip install ogb # for ddi data that we will end up using "
      ],
      "metadata": {
        "id": "0Buzul9EiGy4"
      },
      "execution_count": null,
      "outputs": []
    },
    {
      "cell_type": "code",
      "source": [
        "!pip install torch_geometric"
      ],
      "metadata": {
        "id": "O1W4uNY8qNtV"
      },
      "execution_count": null,
      "outputs": []
    },
    {
      "cell_type": "code",
      "source": [
        "import torch\n",
        "import torch_geometric\n",
        "import torch.nn as nn\n",
        "import torch.nn.functional as F\n",
        "\n",
        "from torch_geometric.loader import DataLoader\n",
        "from torch_geometric.nn import SAGEConv\n",
        "from torch_geometric.utils import negative_sampling\n",
        "from tqdm import trange "
      ],
      "metadata": {
        "id": "92BfTi_WqD8y"
      },
      "execution_count": null,
      "outputs": []
    },
    {
      "cell_type": "code",
      "source": [
        "device = torch.device('cuda' if torch.cuda.is_available else 'cpu')"
      ],
      "metadata": {
        "id": "BV1FNMAOrxB2"
      },
      "execution_count": null,
      "outputs": []
    },
    {
      "cell_type": "markdown",
      "source": [
        "### Get Drug-Drug Interaction (DDI) dataset (graph) from OGB"
      ],
      "metadata": {
        "id": "Z7loRf4hr81C"
      }
    },
    {
      "cell_type": "code",
      "source": [
        "from ogb.linkproppred import PygLinkPropPredDataset\n",
        "\n",
        "dataset_name = 'ogbl-ddi'\n",
        "\n",
        "dataset = PygLinkPropPredDataset(name = dataset_name)\n",
        "\n",
        "print(f'{dataset_name} has length {len(dataset)}')"
      ],
      "metadata": {
        "id": "wR4ci9xJr5Vs"
      },
      "execution_count": null,
      "outputs": []
    },
    {
      "cell_type": "code",
      "source": [
        "ddi_graph = dataset[0] # since there is only 1 graph (see the last line of the above cell)\n",
        "\n",
        "print(f'DDI graph Object: {ddi_graph}')\n",
        "print(f'Number of nodes: {ddi_graph.num_nodes}')\n",
        "print(f'Number of edges: {ddi_graph.num_edges}')\n",
        "print(f'Is Undirected? {ddi_graph.is_undirected()}')\n",
        "\n",
        "print(f'Average node degree: {ddi_graph.num_edges/ ddi_graph.num_nodes:2f}')\n",
        "print(f'Number of node features: {ddi_graph.num_node_features}') # has no node features (drugs has no features)\n",
        "print(f'Number of edge features: {ddi_graph.num_edge_features}') # this data has no edge features, but we will build one\n",
        "print(f'Has self_loops: {ddi_graph.has_self_loops()}')\n",
        "print(f'Has isolated nodes: {ddi_graph.has_isolated_nodes()}')"
      ],
      "metadata": {
        "id": "DiH0LZfosesC"
      },
      "execution_count": null,
      "outputs": []
    },
    {
      "cell_type": "markdown",
      "source": [
        "### Data Split"
      ],
      "metadata": {
        "id": "mnRMXGYfujtK"
      }
    },
    {
      "cell_type": "code",
      "source": [
        "split_edges = dataset.get_edge_split()\n",
        "split_edges.keys()"
      ],
      "metadata": {
        "id": "IjN96IztuT23"
      },
      "execution_count": null,
      "outputs": []
    },
    {
      "cell_type": "code",
      "source": [
        "train_edges, valid_edges, test_edges = split_edges['train'], split_edges['valid'], split_edges['test']"
      ],
      "metadata": {
        "id": "hm60Xj8Wu6L3"
      },
      "execution_count": null,
      "outputs": []
    },
    {
      "cell_type": "code",
      "source": [
        "print(f'{train_edges.keys()}')\n",
        "print(f'{valid_edges.keys()}')\n",
        "print(f'{test_edges.keys()}')\n"
      ],
      "metadata": {
        "id": "baSCDmQdvCgn"
      },
      "execution_count": null,
      "outputs": []
    },
    {
      "cell_type": "code",
      "source": [
        "print(f'Number of training pos edges: {train_edges[\"edge\"].shape[0]}')\n",
        "print(f'Number of validation pos edges: {valid_edges[\"edge\"].shape[0]}')\n",
        "print(f'Number of test pos edges: {test_edges[\"edge\"].shape[0]}')\n",
        "\n",
        "print(f'Number of validation negative edges: {valid_edges[\"edge_neg\"].shape[0]}')\n",
        "print(f'Number of test negative edges: {test_edges[\"edge_neg\"].shape[0]}')\n",
        "\n"
      ],
      "metadata": {
        "id": "b_03l21vvZ73"
      },
      "execution_count": null,
      "outputs": []
    },
    {
      "cell_type": "code",
      "source": [
        "print(f'Size of the edge_index: {ddi_graph.edge_index.shape}')"
      ],
      "metadata": {
        "id": "4r5gxF9YwSNi"
      },
      "execution_count": null,
      "outputs": []
    },
    {
      "cell_type": "markdown",
      "source": [
        "A clarification is in order here. Note in the previous-to-last cell, the number of training edges is ${\\frac{1}{2}}*$ the size mentioned in last cell. This is because, this graph is `undirected`, it includes both `(u,v)` and `(v,u)` in the `edge_index`. \n",
        "\n",
        "Note: `edge_index` is `COO` format in which PyG keeps the graph structure information (as opposed to matrix format)"
      ],
      "metadata": {
        "id": "lcBdG6EMwpo7"
      }
    },
    {
      "cell_type": "markdown",
      "source": [
        "### Define edge attributes (1-dim) for each edge. \n",
        "\n",
        "In the next notebook, we will build upon this to implement a multi-dimensional edge attributes.\n",
        "\n",
        "Note: Here we aren't defining how this attribute is built/calculated as I am not interested in how it is built. So ommiting all the comments and theory behind it for now. If curious, please refer to the notebook: **Predicting Drug-Drug Interactions using Graph Neural Networks** from (Stanford course CS224W) [look at the github repo for a link]."
      ],
      "metadata": {
        "id": "5a--5X4lycch"
      }
    },
    {
      "cell_type": "code",
      "source": [
        "from torch_geometric.utils import to_networkx\n",
        "\n",
        "nx_ddi_graph = to_networkx(ddi_graph, to_undirected=True)"
      ],
      "metadata": {
        "id": "75H918UUwcOB"
      },
      "execution_count": null,
      "outputs": []
    },
    {
      "cell_type": "code",
      "source": [
        "#@title Anchor nodes parameters\n",
        "num_anchor_nodes = 200 #@param {type:'number'}"
      ],
      "metadata": {
        "id": "nkANC6fkzdeA"
      },
      "execution_count": null,
      "outputs": []
    },
    {
      "cell_type": "code",
      "source": [
        "import numpy as np\n",
        "import networkx as nx"
      ],
      "metadata": {
        "id": "KKNcbYdKzoVk"
      },
      "execution_count": null,
      "outputs": []
    },
    {
      "cell_type": "code",
      "source": [
        "anchor_nodes = np.random.choice(nx_ddi_graph.number_of_nodes(), size=num_anchor_nodes, replace=False)\n",
        "\n",
        "shortest_paths_to_anchor_nodes = torch.zeros(nx_ddi_graph.number_of_nodes(), num_anchor_nodes)\n",
        "\n",
        "for anchor_index, anchor_node in enumerate(anchor_nodes):\n",
        "  for dst, path_length in nx.single_source_shortest_path_length(nx_ddi_graph, source=anchor_node, cutoff=5).items():\n",
        "    shortest_paths_to_anchor_nodes[dst,anchor_index] = path_length\n",
        "\n",
        "print(f'Shortest paths for node 0 to every anchor node: {shortest_paths_to_anchor_nodes[0]}')"
      ],
      "metadata": {
        "id": "pfuT7LvJzyi9"
      },
      "execution_count": null,
      "outputs": []
    },
    {
      "cell_type": "code",
      "source": [
        "shortest_paths_to_anchor_nodes.shape"
      ],
      "metadata": {
        "id": "mpT5LlCr1ELe"
      },
      "execution_count": null,
      "outputs": []
    },
    {
      "cell_type": "markdown",
      "source": [
        "edge attribute between edge $(u,v)$ is defined as: $$\\text{mean}(\\{SPD(u,v_a) + SPD(v,v_a), \\forall v_a \\in V_{\\text{anchor}} \\})$$ **SPD stands for Shortest Path Distance"
      ],
      "metadata": {
        "id": "CIZSO2bq2xwE"
      }
    },
    {
      "cell_type": "code",
      "source": [
        "edge_attr = shortest_paths_to_anchor_nodes[ddi_graph.edge_index, :].sum(dim=0).mean(dim=1, keepdim=True).to(device)\n",
        "\n",
        "#normalize the edge_attrs \n",
        "max_attr = torch.max(edge_attr)\n",
        "min_attr = torch.min(edge_attr)\n",
        "\n",
        "edge_attr = (edge_attr - min_attr)/(max_attr - min_attr + 1e-15) "
      ],
      "metadata": {
        "id": "D5PWq7Ex1rK1"
      },
      "execution_count": null,
      "outputs": []
    },
    {
      "cell_type": "code",
      "source": [
        "edge_attr.shape"
      ],
      "metadata": {
        "id": "SmrnJFIC4I4B"
      },
      "execution_count": null,
      "outputs": []
    },
    {
      "cell_type": "markdown",
      "source": [
        "## Define a custom GNN layer by incorporating edge_attr for the GraphSAGE model\n",
        "\n",
        "Recap of the GraphSAGE model equation:\n",
        "\n",
        "$$h_v^{l+1} = W_1 ⋅ h_v^l + W_2 \\cdot \\text{mean}(\\{h_u^l, \\forall u \\in N_v\\})$$ where $N_v$ is the neighbors of $v$.\n",
        "\n",
        "Definition of custom GrapSAGE model:\n",
        "\n",
        "$$h_v^{l+1} = W_1 \\cdot h_v^l + W_2 \\cdot \\text{mean}\\{\\text{ReLU}(m_{vu}^{l+1}), \\forall u \\in N_v\\}$$ where $m_{vu}^{l+1} = h_u^l + W_3 \\cdot \\text{edge_attr}_{vu}$\n",
        "\n",
        "#### Implementation Note\n",
        "As noted in the previous practice notebook, $W_1$, $W_2$ and $W_3$ are all implemented using a `torch.nn.Linear` layer with appropriate `(in_channel, out_channel)` so that all the summation in the above equation are defined. In particular, $W_3$'s `in_channel` should be $1$ as `edge_attr` has shape $[|E|,1]$. "
      ],
      "metadata": {
        "id": "W5iSSGeI5Ulj"
      }
    },
    {
      "cell_type": "code",
      "source": [
        "graphsage_in_channels = 128\n",
        "graphsage_hidden_channels = 128\n",
        "graphsage_out_channels = 128\n",
        "#link_predictor_in_channels = link_predictor_in_channels # need to implement for this notebook\n",
        "edge_attr_out_channels = graphsage_hidden_channels"
      ],
      "metadata": {
        "id": "IgeI1vIR5QO8"
      },
      "execution_count": null,
      "outputs": []
    },
    {
      "cell_type": "code",
      "source": [
        "# Custom GNN Layer\n",
        "from torch_geometric.nn.conv import MessagePassing\n",
        "\n",
        "class SAGEConvWithEdgeAttr(MessagePassing):\n",
        "  def __init__(self, in_channels, out_channels, aggr='mean', comb=lambda x,y:x+y, normalize=True,**kwargs):\n",
        "    super(SAGEConvWithEdgeAttr, self).__init__(aggr=aggr)\n",
        "\n",
        "    # W_1 \n",
        "    self.w_self_embedding = torch.nn.Linear(in_channels, out_channels)\n",
        "\n",
        "    # W_2\n",
        "    self.w_aggregation = torch.nn.Linear(in_channels, out_channels)\n",
        "\n",
        "    # W_3\n",
        "    self.w_edge_attr = torch.nn.Linear(1, edge_attr_out_channels)\n",
        "\n",
        "    self.comb = comb\n",
        "    self.normalize = normalize\n",
        "\n",
        "  def forward(self, x, edge_index, edge_attr, size=None):\n",
        "    # message propagation\n",
        "    aggregation = self.propagate(edge_index, x=(x,x), edge_attr=edge_attr, size=size)\n",
        "    out = self.w_self_embedding(x) + self.w_aggregation(aggregation)\n",
        "\n",
        "    if self.normalize:\n",
        "      out = F.normalize(out)\n",
        "\n",
        "    return out \n",
        "\n",
        "  def message(self, x_j, edge_attr):\n",
        "    \"\"\" Cursome Message \"\"\"\n",
        "    return F.relu(self.comb(x_j, self.w_edge_attr(edge_attr)))\n"
      ],
      "metadata": {
        "id": "83vRwD8UOuLR"
      },
      "execution_count": null,
      "outputs": []
    },
    {
      "cell_type": "code",
      "source": [
        "# Following is the GNN with custom layer defined above\n",
        "\n",
        "class GraphSAGE(torch.nn.Module):\n",
        "\n",
        "  def __init__(self, conv, in_channels, hidden_channels, out_channels, num_layers, dropout):\n",
        "    # conv is the custom gnn layer that we built in the preceeding cell\n",
        "    super(GraphSAGE, self).__init__()\n",
        "\n",
        "    self.convs = torch.nn.ModuleList()\n",
        "    # must have atleast 2 gnn layers\n",
        "    assert (num_layers >= 2), 'Have at least 2 layers'\n",
        "\n",
        "    self.convs.append(conv(in_channels, hidden_channels, normalize=True))\n",
        "    for l in range(num_layers - 2):\n",
        "      self.convs.append(conv(hidden_channels, hidden_channels, normalize=True))\n",
        "    self.convs.append(conv(hidden_channels, out_channels, normalize=True))\n",
        "\n",
        "    self.num_layers = num_layers\n",
        "    self.dropout = dropout\n",
        "\n",
        "  def forward(self, x, edge_index, edge_attr):\n",
        "    for i in range(self.num_layers-1):\n",
        "      # apply the custom layer to the layer i of gnn\n",
        "      x = self.convs[i](x, edge_index, edge_attr)\n",
        "      # pass through non-linearity\n",
        "      x = F.relu(x)\n",
        "      x = F.dropout(x,p=self.dropout, training=self.training)\n",
        "\n",
        "    x = self.convs[self.num_layers-1](x, edge_index, edge_attr) # x.shape = [N,out_channels]\n",
        "\n",
        "    return x \n",
        "\n",
        "\n"
      ],
      "metadata": {
        "id": "qqABeG7EUHm9"
      },
      "execution_count": null,
      "outputs": []
    },
    {
      "cell_type": "code",
      "source": [
        "# This is exclusively for this problem\n",
        "\n",
        "class LinkPredictor(torch.nn.Module):\n",
        "  def __init__(self, in_channels,hidden_channels,dropout, out_channels=1,el_prod=lambda x,y: x*y):\n",
        "    super(LinkPredictor,self).__init__()\n",
        "    self.model = nn.Sequential(nn.Linear(in_channels,hidden_channels),\n",
        "                               nn.ReLU(),\n",
        "                               nn.Dropout(p=dropout),\n",
        "                               nn.Linear(hidden_channels,out_channels),\n",
        "                               nn.Sigmoid())\n",
        "    \n",
        "    self.el_prod = el_prod\n",
        "\n",
        "  def forward(self,u,v):\n",
        "    x = self.el_prod(u,v)\n",
        "    return self.model(x)\n"
      ],
      "metadata": {
        "id": "8y0m5Q5Zb9WT"
      },
      "execution_count": null,
      "outputs": []
    },
    {
      "cell_type": "code",
      "source": [
        "graphsage_in_channels = 128\n",
        "graphsage_hidden_channels = graphsage_in_channels\n",
        "graphsage_out_channels = graphsage_hidden_channels\n",
        "graphsage_num_layers = 2\n",
        "link_predictor_in_channels = graphsage_out_channels\n",
        "link_predictor_hidden_channels = link_predictor_in_channels\n",
        "edge_attr_out_channels = graphsage_hidden_channels\n",
        "dropout = 0.5"
      ],
      "metadata": {
        "id": "OtJp8425mhNs"
      },
      "execution_count": null,
      "outputs": []
    },
    {
      "cell_type": "code",
      "source": [
        "initial_node_embeddings = torch.nn.Embedding(ddi_graph.num_nodes, graphsage_in_channels).to(device)\n",
        "\n",
        "graphsage_model = GraphSAGE(SAGEConvWithEdgeAttr, graphsage_in_channels,\n",
        "                            graphsage_hidden_channels, graphsage_out_channels,\n",
        "                            graphsage_num_layers,\n",
        "                            dropout).to(device)"
      ],
      "metadata": {
        "id": "Daj8bywPvgAh"
      },
      "execution_count": null,
      "outputs": []
    },
    {
      "cell_type": "code",
      "source": [
        "link_predictor = LinkPredictor(in_channels=link_predictor_in_channels,\n",
        "                               hidden_channels=link_predictor_hidden_channels,\n",
        "                               dropout=dropout).to(device)"
      ],
      "metadata": {
        "id": "HEbTHzFHmsma"
      },
      "execution_count": null,
      "outputs": []
    },
    {
      "cell_type": "code",
      "source": [
        "def train(graphsage_model, link_predictor, initial_node_embeddings,edge_index,\n",
        "          pos_train_edges, optimizer, batch_size, edge_attr):\n",
        "  \n",
        "  total_loss, total_examples = 0,0\n",
        "\n",
        "  # not sure about the following 2 lines\n",
        "  graphsage_model.train()\n",
        "  link_predictor.train()\n",
        "\n",
        "  node_embeddings = graphsage_model(initial_node_embeddings, edge_index, edge_attr)\n",
        "\n",
        "  for pos_samples in DataLoader(pos_train_edges, batch_size, shuffle=True):\n",
        "    optimizer.zero_grad()\n",
        "\n",
        "    #node_embeddings = graphsage_model(initial_node_embeddings, edge_index, edge_attr)\n",
        "\n",
        "    neg_samples = negative_sampling(edge_index, \n",
        "                                   num_nodes=initial_node_embeddings.shape[0],\n",
        "                                   num_neg_samples=len(pos_samples),\n",
        "                                   method='dense')\n",
        "    \n",
        "    pos_preds = link_predictor(node_embeddings[pos_samples[:,0]],\n",
        "                              node_embeddings[pos_samples[:,1]])\n",
        "    \n",
        "    neg_preds = link_predictor(node_embeddings[neg_samples[0]],\n",
        "                               node_embeddings[neg_samples[1]])\n",
        "    \n",
        "    preds = torch.concat((pos_preds, neg_preds))\n",
        "    labels = torch.concat((torch.ones_like(pos_preds),\n",
        "                           torch.zeros_like(neg_preds)))\n",
        "    \n",
        "    loss = F.binary_cross_entropy(preds, labels)\n",
        "\n",
        "    loss.backward(retain_graph = True)\n",
        "    optimizer.step()\n",
        "\n",
        "    num_examples = len(pos_preds)\n",
        "    total_loss += loss.item() * num_examples\n",
        "    total_examples += num_examples\n",
        "\n",
        "  return total_loss/total_examples, node_embeddings \n"
      ],
      "metadata": {
        "id": "gfM8XSdwfQj1"
      },
      "execution_count": null,
      "outputs": []
    },
    {
      "cell_type": "code",
      "source": [
        "#@title Training Parameters\n",
        "lr = 0.001 #@param {type: 'number'}\n",
        "batch_size= 65536 #@param {type:'number'}\n",
        "epochs = 20 #@param {type: 'number'}\n",
        "eval_steps = 5 #@param {type: 'number'}"
      ],
      "metadata": {
        "id": "2-qMo1-XwisW"
      },
      "execution_count": null,
      "outputs": []
    },
    {
      "cell_type": "code",
      "source": [
        "optimizer = torch.optim.Adam(list(initial_node_embeddings.parameters()) + list(graphsage_model.parameters()) + list(link_predictor.parameters()), lr = lr)"
      ],
      "metadata": {
        "id": "mrbe7gcZxQp2"
      },
      "execution_count": null,
      "outputs": []
    },
    {
      "cell_type": "code",
      "source": [
        "pos_valid_edges = valid_edges['edge'].to(device)\n",
        "neg_valid_edges = valid_edges['edge_neg'].to(device)\n",
        "\n",
        "pos_test_edges = test_edges['edge'].to(device)\n",
        "neg_test_edges = test_edges['edge_neg'].to(device)"
      ],
      "metadata": {
        "id": "y-M9eSPpya3X"
      },
      "execution_count": null,
      "outputs": []
    },
    {
      "cell_type": "code",
      "source": [
        "from ogb.linkproppred import Evaluator\n",
        "\n",
        "evaluator = Evaluator(name=dataset_name)"
      ],
      "metadata": {
        "id": "yCxvdLBGyAAb"
      },
      "execution_count": null,
      "outputs": []
    },
    {
      "cell_type": "code",
      "source": [
        "from torch_geometric.data.data import Data\n",
        "@torch.no_grad()\n",
        "def test(graphsage_model, link_predictor,initial_node_embeddings,edge_index,\n",
        "         pos_valid_edges, pos_test_edges,\n",
        "         neg_valid_edges, neg_test_edges,\n",
        "         batch_size, evaluator, edge_attr):\n",
        "  graphsage_model.eval()\n",
        "  link_predictor.eval()\n",
        "\n",
        "  final_node_embeddings = graphsage_model(initial_node_embeddings, edge_index, edge_attr)\n",
        "\n",
        "  pos_valid_preds = []\n",
        "\n",
        "  for pos_samples in DataLoader(pos_valid_edges, batch_size):\n",
        "    \n",
        "    pos_preds = link_predictor(final_node_embeddings[pos_samples[:,0]],\n",
        "                               final_node_embeddings[pos_samples[:,1]])\n",
        "    \n",
        "    pos_valid_preds.append(pos_preds.squeeze())\n",
        "\n",
        "  pos_valid_pred = torch.cat(pos_valid_preds, dim=0)\n",
        "\n",
        "  neg_valid_preds = []\n",
        "  for neg_samples in DataLoader(neg_valid_edges,batch_size):\n",
        "    neg_preds = link_predictor(final_node_embeddings[neg_samples[:,0]],\n",
        "                               final_node_embeddings[neg_samples[:,1]])\n",
        "    \n",
        "    neg_valid_preds.append(neg_preds.squeeze())\n",
        "  \n",
        "  neg_valid_pred = torch.cat(neg_valid_preds, dim=0)\n",
        "\n",
        "\n",
        "  pos_test_preds = []\n",
        "\n",
        "  for pos_samples in DataLoader(pos_test_edges, batch_size):\n",
        "    pos_preds = link_predictor(final_node_embeddings[pos_samples[:,0]],\n",
        "                               final_node_embeddings[pos_samples[:,1]])\n",
        "    pos_test_preds.append(pos_preds.squeeze())\n",
        "\n",
        "  pos_test_pred = torch.cat(pos_test_preds, dim=0)\n",
        "\n",
        "  neg_test_preds = []\n",
        "\n",
        "  for neg_samples in DataLoader(neg_test_edges, batch_size):\n",
        "    neg_preds = link_predictor(final_node_embeddings[neg_samples[:,0]],\n",
        "                               final_node_embeddings[neg_samples[:,1]])\n",
        "    neg_test_preds.append(neg_preds.squeeze())\n",
        "\n",
        "  neg_test_pred = torch.cat(neg_test_preds, dim = 0)\n",
        "\n",
        "  # Calculate Hits@20 (problem specific)\n",
        "  evaluator.K = 20\n",
        "  valid_hits = evaluator.eval({'y_pred_pos':pos_valid_pred, 'y_pred_neg': neg_valid_pred})\n",
        "  test_hits = evaluator.eval({'y_pred_pos': pos_test_pred, 'y_pred_neg': neg_test_pred})\n",
        "\n",
        "  return valid_hits, test_hits\n",
        "\n"
      ],
      "metadata": {
        "id": "KPHgXl0LxTvw"
      },
      "execution_count": null,
      "outputs": []
    },
    {
      "cell_type": "code",
      "source": [
        "import matplotlib.pyplot as plt\n"
      ],
      "metadata": {
        "id": "i3lFOKE_nbl1"
      },
      "execution_count": null,
      "outputs": []
    },
    {
      "cell_type": "code",
      "source": [
        "# run training and evaluation\n",
        "\n",
        "epochs_bar = trange(1, epochs + 1, desc = 'Loss n/a')\n",
        "\n",
        "edge_index = ddi_graph.edge_index.to(device)\n",
        "pos_train_edges = train_edges['edge'].to(device)\n",
        "\n",
        "losses = []\n",
        "valid_hits_list = []\n",
        "test_hits_list = []\n",
        "\n",
        "for epoch in epochs_bar:\n",
        "  loss, h = train(graphsage_model, link_predictor, initial_node_embeddings.weight,\n",
        "               edge_index, pos_train_edges, optimizer, batch_size, edge_attr)\n",
        "  \n",
        "  losses.append(loss)\n",
        "  epochs_bar.set_description(f\"Loss {loss:0.4f}\")\n",
        "\n",
        "  if epoch % eval_steps == 0:\n",
        "    valid_hits, test_hits = test(graphsage_model, link_predictor, initial_node_embeddings.weight, edge_index,\n",
        "                                 pos_valid_edges, neg_valid_edges, pos_test_edges, neg_test_edges, batch_size,\n",
        "                                 evaluator, edge_attr)\n",
        "    print()\n",
        "    print(f'Epoch: {epoch}, Validation Hits@20: {valid_hits[\"hits@20\"]:0.4f}, Test Hits@20:{test_hits[\"hits@20\"]:0.4f}')\n",
        "    valid_hits_list.append(valid_hits_list[-1] if valid_hits_list else 0)\n",
        "    test_hits_list.append(test_hits_list[-1] if test_hits_list else 0)\n",
        "\n",
        "  else:\n",
        "    valid_hits_list.append(valid_hits_list[-1] if valid_hits_list else 0)\n",
        "    test_hits_list.append(test_hits_list[-1] if test_hits_list else 0)\n",
        "\n",
        "plt.title(dataset.name + \": GraphSAGE with edge attributes\")\n",
        "plt.xlabel(\"Epoch\")\n",
        "plt.plot(losses, label=\"Training loss\")\n",
        "plt.plot(valid_hits_list, label=\"Validation Hits@20\")\n",
        "plt.plot(test_hits_list, label=\"Test Hits@20\")\n",
        "plt.legend()\n",
        "plt.show()\n",
        "  "
      ],
      "metadata": {
        "id": "61CZemVczXuy"
      },
      "execution_count": null,
      "outputs": []
    },
    {
      "cell_type": "code",
      "source": [
        "epochs_bar = trange(1, epochs+1, desc= 'Loss n/a')\n",
        "edge_index = ddi_graph.edge_index.to(device)\n",
        "pos_train_edges = train_edges['edge'].to(device)\n",
        "for epoch in epochs_bar:\n",
        "  loss, h = train(graphsage_model, link_predictor, initial_node_embeddings.weight,\n",
        "               edge_index, pos_train_edges, optimizer, batch_size, edge_attr)"
      ],
      "metadata": {
        "id": "pMD1J_bYwKbC"
      },
      "execution_count": null,
      "outputs": []
    }
  ]
}